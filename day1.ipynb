{
 "cells": [
  {
   "cell_type": "code",
   "execution_count": 1,
   "metadata": {},
   "outputs": [
    {
     "name": "stdout",
     "output_type": "stream",
     "text": [
      "present age: 19\n"
     ]
    }
   ],
   "source": [
    "year=int(input(\"enter year:\"))\n",
    "print(\"present age:\",2023-year)"
   ]
  },
  {
   "cell_type": "code",
   "execution_count": 6,
   "metadata": {},
   "outputs": [
    {
     "name": "stdout",
     "output_type": "stream",
     "text": [
      "120.2\n",
      "42.22222222222222\n"
     ]
    }
   ],
   "source": [
    "#temp fah and celcius\n",
    "while(ch<2):\n",
    "  ch=int(input(\"enter choice:\"))\n",
    "  if(ch==1):\n",
    "      c=int(input(\"enter temp in celcius\"))\n",
    "      f=9/5*c+32\n",
    "      print(f)\n",
    "  elif(ch==2):\n",
    "      fa=int(input(\"enter temp in fahrenheit\"))\n",
    "      ca=(fa-32)*(5/9)\n",
    "      print(ca)\n",
    "  else:\n",
    "      print(\"invalid choice\")\n",
    "\n",
    "     \n",
    "  \n"
   ]
  },
  {
   "cell_type": "code",
   "execution_count": 5,
   "metadata": {},
   "outputs": [
    {
     "name": "stdout",
     "output_type": "stream",
     "text": [
      "2.0\n"
     ]
    }
   ],
   "source": [
    "#cube root\n",
    "n=int(input(\"enter number:\"))\n",
    "print(pow(n,1/3))\n"
   ]
  },
  {
   "cell_type": "code",
   "execution_count": 7,
   "metadata": {},
   "outputs": [
    {
     "name": "stdout",
     "output_type": "stream",
     "text": [
      "present\n"
     ]
    }
   ],
   "source": [
    "is_attending=True\n",
    "if is_attending:\n",
    "    print(\"present\")\n",
    "else:\n",
    "    print(\"absent\")"
   ]
  },
  {
   "cell_type": "code",
   "execution_count": 4,
   "metadata": {},
   "outputs": [
    {
     "name": "stdout",
     "output_type": "stream",
     "text": [
      "6436343\n"
     ]
    }
   ],
   "source": [
    "n=int(input(\"enter no:\"))\n",
    "if(a>9):\n",
    "  if(n%2!=0):\n",
    "    # print(n//10)\n",
    "    # print(n%10)\n",
    "    print(pow(n//10,n%10))\n",
    "  else:\n",
    "    print(pow(n,1/3))\n",
    "else:\n",
    "  print(\"enter 2 dig nos only\")\n"
   ]
  },
  {
   "cell_type": "code",
   "execution_count": 8,
   "metadata": {},
   "outputs": [
    {
     "name": "stdout",
     "output_type": "stream",
     "text": [
      "9\n"
     ]
    }
   ],
   "source": [
    "import math\n",
    "\n",
    "n=int(input(\"enter no:\"))\n",
    "if(n>9):\n",
    "  if(n%2==0):\n",
    "    # print(n//10)\n",
    "    # print(n%10)\n",
    "    print(pow(n//10,n%10))\n",
    "  else:\n",
    "    #print(pow(n,1/3))\n",
    "    print(round(pow(n,1/3)))\n",
    "else:\n",
    "  print(\"enter 2 dig nos only\")"
   ]
  },
  {
   "cell_type": "code",
   "execution_count": 23,
   "metadata": {},
   "outputs": [
    {
     "name": "stdout",
     "output_type": "stream",
     "text": [
      "perfect cube\n"
     ]
    }
   ],
   "source": [
    "#check if the no is perfect cube or not\n",
    "n=int(input(\"enter no:\"))\n",
    "cr=pow(n,1/3)\n",
    "if(round(cr)**3==n):\n",
    "    print(\"perfect cube\")\n",
    "else:\n",
    "    print(\"not perfect cube\")"
   ]
  },
  {
   "cell_type": "code",
   "execution_count": 30,
   "metadata": {},
   "outputs": [
    {
     "name": "stdout",
     "output_type": "stream",
     "text": [
      "9\n"
     ]
    }
   ],
   "source": [
    "#if it is a even perfect cube no print its last dig sq , if odd perfect cube print last dig only\n",
    "\n",
    "num=int(input())\n",
    "if(round(pow(num,1/3))**3==num):\n",
    "    if(num%2==0):\n",
    "        print((num%10)**2)\n",
    "    else:\n",
    "        print((num%10))\n",
    "else:\n",
    "    print(\"enter a  perfect cube\")"
   ]
  }
 ],
 "metadata": {
  "kernelspec": {
   "display_name": "base",
   "language": "python",
   "name": "python3"
  },
  "language_info": {
   "codemirror_mode": {
    "name": "ipython",
    "version": 3
   },
   "file_extension": ".py",
   "mimetype": "text/x-python",
   "name": "python",
   "nbconvert_exporter": "python",
   "pygments_lexer": "ipython3",
   "version": "3.9.13"
  },
  "orig_nbformat": 4
 },
 "nbformat": 4,
 "nbformat_minor": 2
}
