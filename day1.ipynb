{
 "cells": [
  {
   "cell_type": "code",
   "execution_count": 1,
   "metadata": {},
   "outputs": [
    {
     "name": "stdout",
     "output_type": "stream",
     "text": [
      "present age: 19\n"
     ]
    }
   ],
   "source": [
    "year=int(input(\"enter year:\"))\n",
    "print(\"present age:\",2023-year)"
   ]
  },
  {
   "cell_type": "code",
   "execution_count": 6,
   "metadata": {},
   "outputs": [
    {
     "name": "stdout",
     "output_type": "stream",
     "text": [
      "120.2\n",
      "42.22222222222222\n"
     ]
    }
   ],
   "source": [
    "#temp fah and celcius\n",
    "while(ch<2):\n",
    "  ch=int(input(\"enter choice:\"))\n",
    "  if(ch==1):\n",
    "      c=int(input(\"enter temp in celcius\"))\n",
    "      f=9/5*c+32\n",
    "      print(f)\n",
    "  elif(ch==2):\n",
    "      fa=int(input(\"enter temp in fahrenheit\"))\n",
    "      ca=(fa-32)*(5/9)\n",
    "      print(ca)\n",
    "  else:\n",
    "      print(\"invalid choice\")\n",
    "\n",
    "     \n",
    "  \n"
   ]
  },
  {
   "cell_type": "code",
   "execution_count": 5,
   "metadata": {},
   "outputs": [
    {
     "name": "stdout",
     "output_type": "stream",
     "text": [
      "2.0\n"
     ]
    }
   ],
   "source": [
    "#cube root\n",
    "n=int(input(\"enter number:\"))\n",
    "print(pow(n,1/3))\n"
   ]
  },
  {
   "cell_type": "code",
   "execution_count": 7,
   "metadata": {},
   "outputs": [
    {
     "name": "stdout",
     "output_type": "stream",
     "text": [
      "present\n"
     ]
    }
   ],
   "source": [
    "is_attending=True\n",
    "if is_attending:\n",
    "    print(\"present\")\n",
    "else:\n",
    "    print(\"absent\")"
   ]
  },
  {
   "cell_type": "code",
   "execution_count": 4,
   "metadata": {},
   "outputs": [
    {
     "name": "stdout",
     "output_type": "stream",
     "text": [
      "6436343\n"
     ]
    }
   ],
   "source": [
    "n=int(input(\"enter no:\"))\n",
    "if(a>9):\n",
    "  if(n%2!=0):\n",
    "    # print(n//10)\n",
    "    # print(n%10)\n",
    "    print(pow(n//10,n%10))\n",
    "  else:\n",
    "    print(pow(n,1/3))\n",
    "else:\n",
    "  print(\"enter 2 dig nos only\")\n"
   ]
  },
  {
   "cell_type": "code",
   "execution_count": 8,
   "metadata": {},
   "outputs": [
    {
     "name": "stdout",
     "output_type": "stream",
     "text": [
      "9\n"
     ]
    }
   ],
   "source": [
    "import math\n",
    "\n",
    "n=int(input(\"enter no:\"))\n",
    "if(n>9):\n",
    "  if(n%2==0):\n",
    "    # print(n//10)\n",
    "    # print(n%10)\n",
    "    print(pow(n//10,n%10))\n",
    "  else:\n",
    "    #print(pow(n,1/3))\n",
    "    print(round(pow(n,1/3)))\n",
    "else:\n",
    "  print(\"enter 2 dig nos only\")"
   ]
  },
  {
   "cell_type": "code",
   "execution_count": 23,
   "metadata": {},
   "outputs": [
    {
     "name": "stdout",
     "output_type": "stream",
     "text": [
      "perfect cube\n"
     ]
    }
   ],
   "source": [
    "#check if the no is perfect cube or not\n",
    "n=int(input(\"enter no:\"))\n",
    "cr=pow(n,1/3)\n",
    "if(round(cr)**3==n):\n",
    "    print(\"perfect cube\")\n",
    "else:\n",
    "    print(\"not perfect cube\")"
   ]
  },
  {
   "cell_type": "code",
   "execution_count": 30,
   "metadata": {},
   "outputs": [
    {
     "name": "stdout",
     "output_type": "stream",
     "text": [
      "9\n"
     ]
    }
   ],
   "source": [
    "#if it is a even perfect cube no print its last dig sq , if odd perfect cube print last dig only\n",
    "\n",
    "num=int(input())\n",
    "if(round(pow(num,1/3))**3==num):\n",
    "    if(num%2==0):\n",
    "        print((num%10)**2)\n",
    "    else:\n",
    "        print((num%10))\n",
    "else:\n",
    "    print(\"enter a  perfect cube\")"
   ]
  },
  {
   "cell_type": "code",
   "execution_count": 33,
   "metadata": {},
   "outputs": [
    {
     "name": "stdout",
     "output_type": "stream",
     "text": [
      "720\n"
     ]
    }
   ],
   "source": [
    "#factorial\n",
    "num=int(input(\"enter no\"))\n",
    "i=1\n",
    "f=1\n",
    "while(i<=num):\n",
    "    f*=i\n",
    "    i+=1\n",
    "print(f)"
   ]
  },
  {
   "cell_type": "code",
   "execution_count": 35,
   "metadata": {},
   "outputs": [
    {
     "name": "stdout",
     "output_type": "stream",
     "text": [
      "40320\n"
     ]
    }
   ],
   "source": [
    "import math\n",
    "print(math.factorial(int(input(\"enter no:\"))))"
   ]
  },
  {
   "cell_type": "code",
   "execution_count": 36,
   "metadata": {},
   "outputs": [
    {
     "name": "stdout",
     "output_type": "stream",
     "text": [
      "pod\n"
     ]
    }
   ],
   "source": [
    "#strings\n",
    "a=\"poda\"\n",
    "print(a[0:3])#from 0 till 2, n-1\n"
   ]
  },
  {
   "cell_type": "code",
   "execution_count": 38,
   "metadata": {},
   "outputs": [
    {
     "data": {
      "text/plain": [
       "'poda naaye'"
      ]
     },
     "execution_count": 38,
     "metadata": {},
     "output_type": "execute_result"
    }
   ],
   "source": [
    "a=\" poda naaye  \"\n",
    "a.strip()"
   ]
  },
  {
   "cell_type": "code",
   "execution_count": 46,
   "metadata": {},
   "outputs": [
    {
     "data": {
      "text/plain": [
       "2"
      ]
     },
     "execution_count": 46,
     "metadata": {},
     "output_type": "execute_result"
    }
   ],
   "source": [
    "#index tells first occurence of the substring but find checks for all the elements in the substring\n",
    "a=\"python ma\"\n",
    "a.index(\"th\")\n",
    "a.find(\"th\")"
   ]
  },
  {
   "cell_type": "code",
   "execution_count": 48,
   "metadata": {},
   "outputs": [
    {
     "name": "stdout",
     "output_type": "stream",
     "text": [
      "1\n",
      "24\n"
     ]
    }
   ],
   "source": [
    "#to check facotrial of the index where vowels are present\n",
    "def check_vowel(word):\n",
    "    vowels=[\"a\",\"e\",\"i\",\"o\",\"u\"]\n",
    "    for i in range(len(word)):\n",
    "        if word[i] in vowels:\n",
    "            print(math.factorial(i))\n",
    "check_vowel(\"pizza\")"
   ]
  },
  {
   "cell_type": "code",
   "execution_count": 59,
   "metadata": {},
   "outputs": [
    {
     "name": "stdout",
     "output_type": "stream",
     "text": [
      "1 1\n",
      "4 24\n"
     ]
    }
   ],
   "source": [
    "def check_vowel(word):\n",
    "    vowels=[\"a\",\"e\",\"i\",\"o\",\"u\"]\n",
    "    for j in range(len(word)):\n",
    "        if word[j] in vowels:\n",
    "            ref=j\n",
    "            f=1\n",
    "            while(ref>=2):\n",
    "                f=f*ref\n",
    "                ref-=1\n",
    "            print(j,f)\n",
    "check_vowel(\"pizza\")"
   ]
  },
  {
   "cell_type": "code",
   "execution_count": 65,
   "metadata": {},
   "outputs": [
    {
     "name": "stdout",
     "output_type": "stream",
     "text": [
      "o\n",
      "e\n",
      "i\n",
      "i\n",
      "i\n"
     ]
    }
   ],
   "source": [
    "#vowels\n",
    "import string\n",
    "a=\"jnnnoeijiirpj\".lower()\n",
    "vowels=\"aeiou\"\n",
    "for i in a:\n",
    "    if i in vowels:\n",
    "        print(i)"
   ]
  },
  {
   "cell_type": "code",
   "execution_count": 69,
   "metadata": {},
   "outputs": [
    {
     "name": "stdout",
     "output_type": "stream",
     "text": [
      "j 1\n",
      "n 2\n",
      "n 3\n",
      "n 4\n",
      "j 5\n",
      "r 6\n",
      "p 7\n",
      "j 8\n"
     ]
    }
   ],
   "source": [
    "a=\"jnnnoeijiirpj\"\n",
    "vowels=[\"a\",\"e\",\"i\",\"o\",\"u\"]\n",
    "count=0\n",
    "for i in a:\n",
    "    if i not in vowels:\n",
    "        count+=1\n",
    "        print(i,count)"
   ]
  },
  {
   "cell_type": "code",
   "execution_count": 82,
   "metadata": {},
   "outputs": [
    {
     "name": "stdout",
     "output_type": "stream",
     "text": [
      "armstrong no\n"
     ]
    }
   ],
   "source": [
    "#armstrong no , no dig power no of dig\n",
    "\n",
    "ano=int(input())\n",
    "#n=int(input(\"no of digs\"))\n",
    "t=ano\n",
    "s=0\n",
    "while(t>0):\n",
    "    dig=t%10\n",
    "    s+=dig**(len(str(ano)))\n",
    "    t//=10\n",
    "if(ano==s):\n",
    "    print(\"armstrong no\")\n",
    "else:\n",
    "    print(\"not armstrong\")\n"
   ]
  },
  {
   "cell_type": "code",
   "execution_count": 84,
   "metadata": {},
   "outputs": [
    {
     "name": "stdout",
     "output_type": "stream",
     "text": [
      "True\n"
     ]
    }
   ],
   "source": [
    "am=input()#short approach\n",
    "sum=0\n",
    "for i in am:\n",
    "    sum+=int(i)**len(am)\n",
    "print(sum==int(am))"
   ]
  },
  {
   "cell_type": "code",
   "execution_count": 86,
   "metadata": {},
   "outputs": [
    {
     "name": "stdout",
     "output_type": "stream",
     "text": [
      "True\n"
     ]
    }
   ],
   "source": [
    "#strong no\n",
    "am=input()\n",
    "sum=0\n",
    "for i in am:\n",
    "    sum+=math.factorial(int(i))\n",
    "print(sum==int(am))"
   ]
  },
  {
   "cell_type": "code",
   "execution_count": 88,
   "metadata": {},
   "outputs": [
    {
     "name": "stdout",
     "output_type": "stream",
     "text": [
      "True\n"
     ]
    }
   ],
   "source": [
    "#starts with function\n",
    "am=input(\"enter the string:\")\n",
    "print(am.startswith(\"Hgh\"))"
   ]
  },
  {
   "cell_type": "code",
   "execution_count": 6,
   "metadata": {},
   "outputs": [
    {
     "data": {
      "text/plain": [
       "[75, 67, 40, 33]"
      ]
     },
     "execution_count": 6,
     "metadata": {},
     "output_type": "execute_result"
    }
   ],
   "source": [
    "import math\n",
    "import os\n",
    "import random\n",
    "import re\n",
    "import sys\n",
    "def gradingStudents(grades):\n",
    "    for i in range(len(grades)):\n",
    "        if grades[i]<38:\n",
    "            continue\n",
    "        else:\n",
    "            temp=grades[i]\n",
    "            te=temp%5\n",
    "            if te==3:\n",
    "                temp=temp+2\n",
    "                grades[i]=temp\n",
    "            elif te==4:\n",
    "                temp=temp+1\n",
    "                grades[i]=temp\n",
    "            else:\n",
    "                continue\n",
    "    return grades   \n",
    "            \n",
    "grades=[73,67,38,33]\n",
    "gradingStudents(grades)\n"
   ]
  },
  {
   "cell_type": "code",
   "execution_count": 8,
   "metadata": {},
   "outputs": [
    {
     "name": "stdout",
     "output_type": "stream",
     "text": [
      "acegikmo\n"
     ]
    }
   ],
   "source": [
    "ref=\"abcdefghijklmnop\"\n",
    "newref=\"\"\n",
    "for i in range(0,len(ref),2):\n",
    "    newref+=ref[i]\n",
    "print(newref)"
   ]
  },
  {
   "cell_type": "code",
   "execution_count": 9,
   "metadata": {},
   "outputs": [
    {
     "name": "stdout",
     "output_type": "stream",
     "text": [
      "pdaa\n"
     ]
    }
   ],
   "source": [
    "print(input()[::2])"
   ]
  },
  {
   "cell_type": "code",
   "execution_count": 14,
   "metadata": {},
   "outputs": [
    {
     "name": "stdout",
     "output_type": "stream",
     "text": [
      "  code ended\n"
     ]
    }
   ],
   "source": [
    "#strings till no is found\n",
    "while(input().isalpha()):\n",
    "    print(\" \",end=\"\")\n",
    "print(\"code ended\")\n"
   ]
  },
  {
   "cell_type": "code",
   "execution_count": 17,
   "metadata": {},
   "outputs": [
    {
     "name": "stdout",
     "output_type": "stream",
     "text": [
      "olleh\n"
     ]
    }
   ],
   "source": [
    "strings=input()\n",
    "revstring=\"\"\n",
    "for i in range(len(strings)-1,-1,-1):\n",
    "    revstring+=strings[i]\n",
    "print(revstring)"
   ]
  },
  {
   "cell_type": "code",
   "execution_count": 18,
   "metadata": {},
   "outputs": [
    {
     "name": "stdout",
     "output_type": "stream",
     "text": [
      "olleh\n"
     ]
    }
   ],
   "source": [
    "#alternate\n",
    "print(input()[::-1])"
   ]
  },
  {
   "cell_type": "code",
   "execution_count": 29,
   "metadata": {},
   "outputs": [
    {
     "name": "stdout",
     "output_type": "stream",
     "text": [
      "applesssss\n"
     ]
    }
   ],
   "source": [
    "#take a long string , wherever there is vowel, repeat the next letter to the times of its index\n",
    "\n",
    "vowels=[\"a\",\"e\",\"i\",\"o\",\"u\"]\n",
    "st=input(\"enter string:\")\n",
    "s=\"\"+st[0]\n",
    "for i in range(1,len(st)):\n",
    "    if(st[i-1] in vowels):\n",
    "        s+=st[i]*i\n",
    "    else:\n",
    "        s+=st[i]\n",
    "print(s)"
   ]
  },
  {
   "cell_type": "code",
   "execution_count": 31,
   "metadata": {},
   "outputs": [
    {
     "name": "stdout",
     "output_type": "stream",
     "text": [
      "palindrome\n"
     ]
    }
   ],
   "source": [
    "#whether a particular   string or integer is palindrome or not\n",
    "\n",
    "st=input()\n",
    "if(st==st[::-1]):\n",
    "    print(\"palindrome\")\n",
    "else:\n",
    "    print(\"not palindrome\")"
   ]
  },
  {
   "cell_type": "code",
   "execution_count": 41,
   "metadata": {},
   "outputs": [
    {
     "name": "stdout",
     "output_type": "stream",
     "text": [
      "esappl\n"
     ]
    }
   ],
   "source": [
    "#tcs- string -apples, take input as integer, rotate the tree\n",
    "#apples, 2--- esappl\n",
    "st=input()\n",
    "s=\"\"\n",
    "n=int(input())\n",
    "print(st[len(st)-n:]+st[0:len(st)-n])"
   ]
  },
  {
   "cell_type": "code",
   "execution_count": 52,
   "metadata": {},
   "outputs": [
    {
     "name": "stdout",
     "output_type": "stream",
     "text": [
      "hll\n"
     ]
    }
   ],
   "source": [
    "#remove vowels from the string\n",
    "print(input().replace(\"a\",\"\").replace(\"e\",\"\").replace(\"i\",\"\").replace(\"o\",\"\").replace(\"u\",\"\"))\n"
   ]
  },
  {
   "cell_type": "code",
   "execution_count": 54,
   "metadata": {},
   "outputs": [
    {
     "name": "stdout",
     "output_type": "stream",
     "text": [
      "h*ll##\n"
     ]
    }
   ],
   "source": [
    "#vowel occurence, first time by *, second by #, third by $\n",
    "\n",
    "st=input()\n",
    "vow=\"aeiou\"\n",
    "c=0\n",
    "for i in st:\n",
    "    if i in vow:\n",
    "        if(st.count(i)==1):\n",
    "            st=st.replace(i,\"*\")\n",
    "        elif(st.count(i)==2):\n",
    "            st=st.replace(i,\"#\")\n",
    "        elif(st.count(i)==3):\n",
    "            st=st.replace(i,\"$\")\n",
    "print(st)\n"
   ]
  },
  {
   "cell_type": "code",
   "execution_count": 56,
   "metadata": {},
   "outputs": [
    {
     "name": "stdout",
     "output_type": "stream",
     "text": [
      "*ppl*#s\n"
     ]
    }
   ],
   "source": [
    "st=input()\n",
    "vow=\"aeiou\"\n",
    "c=0\n",
    "for i in st:\n",
    "    if i in vow:\n",
    "            st=st.replace(i,\"*\",1)\n",
    "            st=st.replace(i,\"#\",2)\n",
    "            st=st.replace(i,\"$\",3)\n",
    "print(st)\n"
   ]
  }
 ],
 "metadata": {
  "kernelspec": {
   "display_name": "base",
   "language": "python",
   "name": "python3"
  },
  "language_info": {
   "codemirror_mode": {
    "name": "ipython",
    "version": 3
   },
   "file_extension": ".py",
   "mimetype": "text/x-python",
   "name": "python",
   "nbconvert_exporter": "python",
   "pygments_lexer": "ipython3",
   "version": "3.9.13"
  },
  "orig_nbformat": 4
 },
 "nbformat": 4,
 "nbformat_minor": 2
}
