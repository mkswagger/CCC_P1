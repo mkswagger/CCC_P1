{
 "cells": [
  {
   "cell_type": "code",
   "execution_count": 3,
   "metadata": {},
   "outputs": [
    {
     "name": "stdout",
     "output_type": "stream",
     "text": [
      "[23, 'python', True]\n"
     ]
    }
   ],
   "source": [
    "simple_lis=[]\n",
    "simple_lis.append(23)\n",
    "simple_lis.append(\"python\")\n",
    "simple_lis.append(True)\n",
    "print(simple_lis)#dynamic typing\n",
    "#in languages like java, the tying is restricted to one type of data not dynamic typing"
   ]
  },
  {
   "cell_type": "code",
   "execution_count": 6,
   "metadata": {},
   "outputs": [
    {
     "name": "stdout",
     "output_type": "stream",
     "text": [
      "[2, 4]\n",
      "[1, 3]\n"
     ]
    }
   ],
   "source": [
    "#no of elements for the list, all of them integers, even no in one list, odd in another list\n",
    "n=int(input(\"enter no of elements:\"))\n",
    "even_lis=[]\n",
    "odd_lis=[]\n",
    "for i in range(n):\n",
    "    el=int(input(\"enter no:\"))\n",
    "    if(el%2==0): even_lis.append(el)\n",
    "    else: odd_lis.append(el)\n",
    "print(even_lis)\n",
    "print(odd_lis)"
   ]
  },
  {
   "cell_type": "code",
   "execution_count": 4,
   "metadata": {},
   "outputs": [
    {
     "name": "stdout",
     "output_type": "stream",
     "text": [
      "<class 'int'>\n",
      "<class 'str'>\n",
      "<class 'bool'>\n"
     ]
    }
   ],
   "source": [
    "for i in simple_lis:\n",
    "    print(type(i))\n",
    "    "
   ]
  },
  {
   "cell_type": "code",
   "execution_count": null,
   "metadata": {},
   "outputs": [],
   "source": []
  }
 ],
 "metadata": {
  "kernelspec": {
   "display_name": "base",
   "language": "python",
   "name": "python3"
  },
  "language_info": {
   "codemirror_mode": {
    "name": "ipython",
    "version": 3
   },
   "file_extension": ".py",
   "mimetype": "text/x-python",
   "name": "python",
   "nbconvert_exporter": "python",
   "pygments_lexer": "ipython3",
   "version": "3.9.13"
  },
  "orig_nbformat": 4
 },
 "nbformat": 4,
 "nbformat_minor": 2
}
