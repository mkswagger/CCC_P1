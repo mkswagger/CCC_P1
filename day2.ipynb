{
 "cells": [
  {
   "cell_type": "code",
   "execution_count": 3,
   "metadata": {},
   "outputs": [
    {
     "name": "stdout",
     "output_type": "stream",
     "text": [
      "[23, 'python', True]\n"
     ]
    }
   ],
   "source": [
    "simple_lis=[]\n",
    "simple_lis.append(23)\n",
    "simple_lis.append(\"python\")\n",
    "simple_lis.append(True)\n",
    "print(simple_lis)#dynamic typing\n",
    "#in languages like java, the tying is restricted to one type of data not dynamic typing"
   ]
  },
  {
   "cell_type": "code",
   "execution_count": 6,
   "metadata": {},
   "outputs": [
    {
     "name": "stdout",
     "output_type": "stream",
     "text": [
      "[2, 4]\n",
      "[1, 3]\n"
     ]
    }
   ],
   "source": [
    "#no of elements for the list, all of them integers, even no in one list, odd in another list\n",
    "n=int(input(\"enter no of elements:\"))\n",
    "even_lis=[]\n",
    "odd_lis=[]\n",
    "for i in range(n):\n",
    "    el=int(input(\"enter no:\"))\n",
    "    if(el%2==0): even_lis.append(el)\n",
    "    else: odd_lis.append(el)\n",
    "print(even_lis)\n",
    "print(odd_lis)"
   ]
  },
  {
   "cell_type": "code",
   "execution_count": 4,
   "metadata": {},
   "outputs": [
    {
     "name": "stdout",
     "output_type": "stream",
     "text": [
      "<class 'int'>\n",
      "<class 'str'>\n",
      "<class 'bool'>\n"
     ]
    }
   ],
   "source": [
    "for i in simple_lis:\n",
    "    print(type(i))\n",
    "    "
   ]
  },
  {
   "cell_type": "code",
   "execution_count": 12,
   "metadata": {},
   "outputs": [
    {
     "name": "stdout",
     "output_type": "stream",
     "text": [
      "oddlist is [1, 3] \n",
      " Even list is[2, 4] \n",
      "oddlist is [1, 3],\n",
      " Even list is[2, 4]\n",
      "oddlist is ['1'] \n",
      " Even list is['4'] \n"
     ]
    }
   ],
   "source": [
    "#formatted strings\n",
    "print(f'oddlist is {odd_lis} \\n Even list is{even_lis} ')\n",
    "print(\"oddlist is {},\\n Even list is{}\".format(odd_lis, even_lis))\n",
    "\n",
    "print(f'oddlist is {list(input(\"enter nos:\"))} \\n '\n",
    "      f'Even list is{list(input(\"enter no2:\"))} ')"
   ]
  },
  {
   "cell_type": "code",
   "execution_count": 18,
   "metadata": {},
   "outputs": [
    {
     "name": "stdout",
     "output_type": "stream",
     "text": [
      "890\n",
      "[890, 312, 78, 34, 13]\n",
      "[890, 312, 78, 34, 13]\n"
     ]
    },
    {
     "data": {
      "text/plain": [
       "13"
      ]
     },
     "execution_count": 18,
     "metadata": {},
     "output_type": "execute_result"
    }
   ],
   "source": [
    "lis_num=[13,34,78,312,890]\n",
    "print(lis_num[len(lis_num)-1])\n",
    "print(sorted(lis_num,reverse=True))\n",
    "lis_num.reverse()\n",
    "print(lis_num)\n",
    "lis_num.pop()\n"
   ]
  },
  {
   "cell_type": "code",
   "execution_count": 26,
   "metadata": {},
   "outputs": [
    {
     "name": "stdout",
     "output_type": "stream",
     "text": [
      "3\n",
      "5\n",
      "7\n",
      "[6, 120, 5040]\n"
     ]
    }
   ],
   "source": [
    "#take no of elements from user, 2 dig integers check, list of them that first dig of that no pllus last elemt's factorial \n",
    "#1+3=4 4!=24 shd be in list\n",
    "import math\n",
    "n=int(input(\"enter the no fo elemnts:\"))\n",
    "lis=[]\n",
    "\n",
    "\n",
    "for i in range(n):\n",
    "    el=int(input(\"enter element:\"))\n",
    "    s=0\n",
    "    for i in str(el):\n",
    "        s+=int(i)\n",
    "\n",
    "    print(s)\n",
    "    lis.append(math.factorial(s))\n",
    "print(lis)\n",
    "\n",
    "\n"
   ]
  }
 ],
 "metadata": {
  "kernelspec": {
   "display_name": "base",
   "language": "python",
   "name": "python3"
  },
  "language_info": {
   "codemirror_mode": {
    "name": "ipython",
    "version": 3
   },
   "file_extension": ".py",
   "mimetype": "text/x-python",
   "name": "python",
   "nbconvert_exporter": "python",
   "pygments_lexer": "ipython3",
   "version": "3.9.13"
  },
  "orig_nbformat": 4
 },
 "nbformat": 4,
 "nbformat_minor": 2
}
