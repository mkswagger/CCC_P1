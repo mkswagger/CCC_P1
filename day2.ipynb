{
 "cells": [
  {
   "cell_type": "code",
   "execution_count": 3,
   "metadata": {},
   "outputs": [
    {
     "name": "stdout",
     "output_type": "stream",
     "text": [
      "[23, 'python', True]\n"
     ]
    }
   ],
   "source": [
    "simple_lis=[]\n",
    "simple_lis.append(23)\n",
    "simple_lis.append(\"python\")\n",
    "simple_lis.append(True)\n",
    "print(simple_lis)#dynamic typing\n",
    "#in languages like java, the tying is restricted to one type of data not dynamic typing"
   ]
  },
  {
   "cell_type": "code",
   "execution_count": 6,
   "metadata": {},
   "outputs": [
    {
     "name": "stdout",
     "output_type": "stream",
     "text": [
      "[2, 4]\n",
      "[1, 3]\n"
     ]
    }
   ],
   "source": [
    "#no of elements for the list, all of them integers, even no in one list, odd in another list\n",
    "n=int(input(\"enter no of elements:\"))\n",
    "even_lis=[]\n",
    "odd_lis=[]\n",
    "for i in range(n):\n",
    "    el=int(input(\"enter no:\"))\n",
    "    if(el%2==0): even_lis.append(el)\n",
    "    else: odd_lis.append(el)\n",
    "print(even_lis)\n",
    "print(odd_lis)"
   ]
  },
  {
   "cell_type": "code",
   "execution_count": 4,
   "metadata": {},
   "outputs": [
    {
     "name": "stdout",
     "output_type": "stream",
     "text": [
      "<class 'int'>\n",
      "<class 'str'>\n",
      "<class 'bool'>\n"
     ]
    }
   ],
   "source": [
    "for i in simple_lis:\n",
    "    print(type(i))\n",
    "    "
   ]
  },
  {
   "cell_type": "code",
   "execution_count": 12,
   "metadata": {},
   "outputs": [
    {
     "name": "stdout",
     "output_type": "stream",
     "text": [
      "oddlist is [1, 3] \n",
      " Even list is[2, 4] \n",
      "oddlist is [1, 3],\n",
      " Even list is[2, 4]\n",
      "oddlist is ['1'] \n",
      " Even list is['4'] \n"
     ]
    }
   ],
   "source": [
    "#formatted strings\n",
    "print(f'oddlist is {odd_lis} \\n Even list is{even_lis} ')\n",
    "print(\"oddlist is {},\\n Even list is{}\".format(odd_lis, even_lis))\n",
    "\n",
    "print(f'oddlist is {list(input(\"enter nos:\"))} \\n '\n",
    "      f'Even list is{list(input(\"enter no2:\"))} ')"
   ]
  },
  {
   "cell_type": "code",
   "execution_count": 18,
   "metadata": {},
   "outputs": [
    {
     "name": "stdout",
     "output_type": "stream",
     "text": [
      "890\n",
      "[890, 312, 78, 34, 13]\n",
      "[890, 312, 78, 34, 13]\n"
     ]
    },
    {
     "data": {
      "text/plain": [
       "13"
      ]
     },
     "execution_count": 18,
     "metadata": {},
     "output_type": "execute_result"
    }
   ],
   "source": [
    "lis_num=[13,34,78,312,890]\n",
    "print(lis_num[len(lis_num)-1])\n",
    "print(sorted(lis_num,reverse=True))\n",
    "lis_num.reverse()\n",
    "print(lis_num)\n",
    "lis_num.pop()\n"
   ]
  },
  {
   "cell_type": "code",
   "execution_count": 29,
   "metadata": {},
   "outputs": [
    {
     "name": "stdout",
     "output_type": "stream",
     "text": [
      "12\n",
      "3\n",
      "23\n",
      "5\n",
      "34\n",
      "7\n",
      "[6, 120, 5040]\n"
     ]
    }
   ],
   "source": [
    "#take no of elements from user, 2 dig integers check, list of them that first dig of that no pllus last elemt's factorial \n",
    "#1+3=4 4!=24 shd be in list\n",
    "import math   #approach 1\n",
    "n=int(input(\"enter the no for elemnts:\"))\n",
    "lis=[]\n",
    "for i in range(n):\n",
    "    el=int(input(\"enter element:\"))\n",
    "    if(len(str(el))==2):\n",
    "      print(el)\n",
    "      s=0\n",
    "      for i in str(el):\n",
    "        s+=int(i)\n",
    "      print(s)\n",
    "      lis.append(math.factorial(s))\n",
    "print(lis)"
   ]
  },
  {
   "cell_type": "code",
   "execution_count": 32,
   "metadata": {},
   "outputs": [
    {
     "name": "stdout",
     "output_type": "stream",
     "text": [
      "[12, 23]\n",
      "[6, 120]\n"
     ]
    }
   ],
   "source": [
    "nums=int(input(\"enter no fo elements\")) #approach 2\n",
    "lis_num=[]\n",
    "modif_lis=[]\n",
    "for i in range(nums):\n",
    "    ref=int(input(\"enter the element:\"))\n",
    "    if(len(str(ref))==2):\n",
    "        lis_num.append(ref)\n",
    "for j in lis_num:\n",
    "        modif_lis.append(math.factorial(j%10+j//10))\n",
    "print(lis_num)\n",
    "print(modif_lis)"
   ]
  },
  {
   "cell_type": "code",
   "execution_count": 33,
   "metadata": {},
   "outputs": [
    {
     "name": "stdout",
     "output_type": "stream",
     "text": [
      "[6, 120, 5040]\n"
     ]
    }
   ],
   "source": [
    "def modif(lis):#approach 3\n",
    "    modif_li=[]\n",
    "    for j in lis:\n",
    "        modif_li.append(math.factorial(j%10+j//10))\n",
    "    return modif_li\n",
    "print(modif([12,23,34]))"
   ]
  },
  {
   "cell_type": "code",
   "execution_count": 4,
   "metadata": {},
   "outputs": [
    {
     "name": "stdout",
     "output_type": "stream",
     "text": [
      "236\n",
      "[23, 34, 45]\n"
     ]
    }
   ],
   "source": [
    "\n",
    "#23 34 56 78\n",
    "lis_spaces=[23,34,45,56,78]\n",
    "print(sum(lis_spaces))\n",
    "lis_spaces=list(map(int,input().split(\" \")))\n",
    "print(lis_spaces)\n"
   ]
  },
  {
   "cell_type": "code",
   "execution_count": null,
   "metadata": {},
   "outputs": [],
   "source": []
  },
  {
   "cell_type": "code",
   "execution_count": 14,
   "metadata": {},
   "outputs": [
    {
     "name": "stdout",
     "output_type": "stream",
     "text": [
      "[0, 1, 2, 6, 7, 9, 2, 3, 4, 5, 6, 9]\n",
      "['sygdv', 'aiusdquiweh', 'qwuieuiqwe']\n"
     ]
    }
   ],
   "source": [
    "#take input from user separated by spaces\n",
    "#append the indexes of vowels inside another list and print it\n",
    "\n",
    "lis=list(map(str,input().split(\" \")))\n",
    "vowels=\"aeiou\"\n",
    "vow_lis=[]\n",
    "for a in lis:#elements of lis ex: aiusdquiweh\n",
    "    for j in range(len(a)): #iterating through aiusdquiweh based on index \n",
    "        if(a[j] in vowels): #if a in aiusdquiweh is in vow\n",
    "           vow_lis.append(j) #append it to the list\n",
    "print(vow_lis) #list of index of vowels\n",
    "print(lis)\n"
   ]
  },
  {
   "cell_type": "code",
   "execution_count": 28,
   "metadata": {},
   "outputs": [
    {
     "name": "stdout",
     "output_type": "stream",
     "text": [
      "hiieee\n",
      "h*ieee\n",
      "h**eee\n",
      "h***ee\n",
      "h****e\n",
      "h*****\n",
      "waste\n",
      "w*ste\n",
      "w*ste\n",
      "w*ste\n",
      "w*st*\n",
      "[[1, 2, 3, 4, 5], [1, 4]]\n",
      "['hiieee', 'waste']\n"
     ]
    }
   ],
   "source": [
    "lis_string=list(map(str,input(\"enter string\").split(\" \"))) #sir's approach\n",
    "lis2d=[]\n",
    "lis=[]\n",
    "vowels=\"aeiou\"\n",
    "for i in lis_string:\n",
    "    for j in i:\n",
    "        if j in vowels:\n",
    "            lis.append(i.index(j))\n",
    "            i=i.replace(j,\"*\",1)\n",
    "        print(i)\n",
    "    lis2d.append(lis)\n",
    "    lis=[]\n",
    "print(lis2d)\n",
    "print(lis_string)\n"
   ]
  },
  {
   "cell_type": "code",
   "execution_count": 34,
   "metadata": {},
   "outputs": [
    {
     "name": "stdout",
     "output_type": "stream",
     "text": [
      "[2, 6, 24, 120]\n",
      "[25852016738884976640000, 295232799039604140847618609643520000000]\n"
     ]
    }
   ],
   "source": [
    "import math\n",
    "def squaring(num):\n",
    "    return math.factorial(num)\n",
    "lis_user=[2,3,4,5]\n",
    "print(list(map(squaring,lis_user)))\n",
    "lis_user=list(map(int,input().split(\" \")))\n",
    "print(list(map(squaring,lis_user))) #breaks and takes the elements of is_user and passses them through \n",
    "#function squaring\n",
    "\n"
   ]
  },
  {
   "cell_type": "code",
   "execution_count": 38,
   "metadata": {},
   "outputs": [
    {
     "name": "stdout",
     "output_type": "stream",
     "text": [
      "[24, 120, 720]\n",
      "[4, 6]\n",
      "[4, 5, 6]\n"
     ]
    }
   ],
   "source": [
    "#filter function\n",
    "def evenNums(n):\n",
    "    return n%2==0\n",
    "li_user=list(map(int,input().split(\" \")))\n",
    "mapped_val= print(list(map(squaring,li_user)))\n",
    "print(list(filter(evenNums,li_user)))\n",
    "print(li_user)"
   ]
  },
  {
   "cell_type": "code",
   "execution_count": 39,
   "metadata": {},
   "outputs": [
    {
     "ename": "ValueError",
     "evalue": "invalid literal for int() with base 10: ''",
     "output_type": "error",
     "traceback": [
      "\u001b[1;31m---------------------------------------------------------------------------\u001b[0m",
      "\u001b[1;31mValueError\u001b[0m                                Traceback (most recent call last)",
      "\u001b[1;32m~\\AppData\\Local\\Temp\\ipykernel_756\\3220956973.py\u001b[0m in \u001b[0;36m<module>\u001b[1;34m\u001b[0m\n\u001b[0;32m      2\u001b[0m     \u001b[1;32mif\u001b[0m\u001b[1;33m(\u001b[0m\u001b[0mround\u001b[0m\u001b[1;33m(\u001b[0m\u001b[0mpow\u001b[0m\u001b[1;33m(\u001b[0m\u001b[0mnum\u001b[0m\u001b[1;33m,\u001b[0m\u001b[1;36m1\u001b[0m\u001b[1;33m/\u001b[0m\u001b[1;36m3\u001b[0m\u001b[1;33m)\u001b[0m\u001b[1;33m)\u001b[0m\u001b[1;33m**\u001b[0m\u001b[1;36m3\u001b[0m\u001b[1;33m==\u001b[0m\u001b[0mnum\u001b[0m\u001b[1;33m)\u001b[0m\u001b[1;33m:\u001b[0m\u001b[1;33m\u001b[0m\u001b[1;33m\u001b[0m\u001b[0m\n\u001b[0;32m      3\u001b[0m         \u001b[1;32mreturn\u001b[0m \u001b[0mnum\u001b[0m\u001b[1;33m\u001b[0m\u001b[1;33m\u001b[0m\u001b[0m\n\u001b[1;32m----> 4\u001b[1;33m \u001b[0muser_list\u001b[0m\u001b[1;33m=\u001b[0m\u001b[0mlist\u001b[0m\u001b[1;33m(\u001b[0m\u001b[0mmap\u001b[0m\u001b[1;33m(\u001b[0m\u001b[0mint\u001b[0m\u001b[1;33m,\u001b[0m\u001b[0minput\u001b[0m\u001b[1;33m(\u001b[0m\u001b[1;33m)\u001b[0m\u001b[1;33m.\u001b[0m\u001b[0msplit\u001b[0m\u001b[1;33m(\u001b[0m\u001b[1;34m\" \"\u001b[0m\u001b[1;33m)\u001b[0m\u001b[1;33m)\u001b[0m\u001b[1;33m)\u001b[0m\u001b[1;33m\u001b[0m\u001b[1;33m\u001b[0m\u001b[0m\n\u001b[0m\u001b[0;32m      5\u001b[0m \u001b[0mmap_val\u001b[0m\u001b[1;33m=\u001b[0m\u001b[0mprint\u001b[0m\u001b[1;33m(\u001b[0m\u001b[0mlist\u001b[0m\u001b[1;33m(\u001b[0m\u001b[0mmap\u001b[0m\u001b[1;33m(\u001b[0m\u001b[0mperfectcube\u001b[0m\u001b[1;33m,\u001b[0m\u001b[0muser_list\u001b[0m\u001b[1;33m)\u001b[0m\u001b[1;33m)\u001b[0m\u001b[1;33m)\u001b[0m\u001b[1;33m\u001b[0m\u001b[1;33m\u001b[0m\u001b[0m\n\u001b[0;32m      6\u001b[0m \u001b[0mprint\u001b[0m\u001b[1;33m(\u001b[0m\u001b[0mmapped_val\u001b[0m\u001b[1;33m)\u001b[0m\u001b[1;33m\u001b[0m\u001b[1;33m\u001b[0m\u001b[0m\n",
      "\u001b[1;31mValueError\u001b[0m: invalid literal for int() with base 10: ''"
     ]
    }
   ],
   "source": [
    "def perfectcube(num):\n",
    "    if(round(pow(num,1/3))**3==num): \n",
    "        return num\n",
    "user_list=list(map(int,input().split(\" \")))\n",
    "map_val=print(list(map(perfectcube,user_list)))\n",
    "print(mapped_val)\n",
    "print(list(filter(perfectcube,user_list)))\n"
   ]
  }
 ],
 "metadata": {
  "kernelspec": {
   "display_name": "base",
   "language": "python",
   "name": "python3"
  },
  "language_info": {
   "codemirror_mode": {
    "name": "ipython",
    "version": 3
   },
   "file_extension": ".py",
   "mimetype": "text/x-python",
   "name": "python",
   "nbconvert_exporter": "python",
   "pygments_lexer": "ipython3",
   "version": "3.9.13"
  },
  "orig_nbformat": 4
 },
 "nbformat": 4,
 "nbformat_minor": 2
}
