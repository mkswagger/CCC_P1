{
 "cells": [
  {
   "cell_type": "code",
   "execution_count": 1,
   "metadata": {},
   "outputs": [
    {
     "name": "stdout",
     "output_type": "stream",
     "text": [
      "[120, 24]\n",
      "[5, 4]\n"
     ]
    }
   ],
   "source": [
    "  #filter function to filter out numbers and the factorial of theirs\n",
    "\n",
    "       \n",
    "def checkfact(n):\n",
    "     #n=int(input())\n",
    "     for i in range(2,n):\n",
    "       n=n/i\n",
    "       if(n==1):\n",
    "         return True\n",
    "\n",
    "def factmap(num):\n",
    "   for i in range(2,num):\n",
    "      num/=i\n",
    "      if(num==1):\n",
    "         return i\n",
    "       \n",
    "a=list(map(int,input().split(\" \")))\n",
    "print(list(filter(checkfact,a)))\n",
    "print(list(map(factmap,list(filter(checkfact,a)))))"
   ]
  },
  {
   "cell_type": "code",
   "execution_count": null,
   "metadata": {},
   "outputs": [],
   "source": [
    "listnum=list(map(int,input().split(\" \")))\n",
    "def evennum(n):\n",
    "    if n%2==0:\n",
    "        return True\n",
    "    else:\n",
    "        return False\n",
    "print(list(map(evennum,listnum)))"
   ]
  }
 ],
 "metadata": {
  "kernelspec": {
   "display_name": "base",
   "language": "python",
   "name": "python3"
  },
  "language_info": {
   "codemirror_mode": {
    "name": "ipython",
    "version": 3
   },
   "file_extension": ".py",
   "mimetype": "text/x-python",
   "name": "python",
   "nbconvert_exporter": "python",
   "pygments_lexer": "ipython3",
   "version": "3.9.13"
  },
  "orig_nbformat": 4
 },
 "nbformat": 4,
 "nbformat_minor": 2
}
