{
 "cells": [
  {
   "cell_type": "code",
   "execution_count": 12,
   "metadata": {},
   "outputs": [
    {
     "name": "stdout",
     "output_type": "stream",
     "text": [
      "5\n",
      "4\n",
      "[]\n"
     ]
    }
   ],
   "source": [
    "#filter function to filter out numbers and the factorial of theirs\n",
    "def fact(n):\n",
    "     #n=int(input())\n",
    "     for i in range(2,n):\n",
    "       n=n/i\n",
    "       if(n==1):\n",
    "         print(i)\n",
    "       \n",
    "\n",
    "print(list(filter(fact,list(map(int,input().split(\" \"))))))\n",
    "print(list(map(fact,list(filter(checkfactor,list(map(int,input().split(\" \"))))))))"
   ]
  },
  {
   "cell_type": "code",
   "execution_count": null,
   "metadata": {},
   "outputs": [],
   "source": []
  }
 ],
 "metadata": {
  "kernelspec": {
   "display_name": "base",
   "language": "python",
   "name": "python3"
  },
  "language_info": {
   "codemirror_mode": {
    "name": "ipython",
    "version": 3
   },
   "file_extension": ".py",
   "mimetype": "text/x-python",
   "name": "python",
   "nbconvert_exporter": "python",
   "pygments_lexer": "ipython3",
   "version": "3.9.13"
  },
  "orig_nbformat": 4
 },
 "nbformat": 4,
 "nbformat_minor": 2
}
