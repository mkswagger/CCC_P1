{
 "cells": [
  {
   "cell_type": "code",
   "execution_count": 1,
   "metadata": {},
   "outputs": [
    {
     "name": "stdout",
     "output_type": "stream",
     "text": [
      "14\n"
     ]
    }
   ],
   "source": [
    "from functools import reduce\n",
    "def sum(a,b):\n",
    "    return a+b\n",
    "list_num=[2,3,4,5]\n",
    "print(reduce(sum,list_num))"
   ]
  },
  {
   "cell_type": "code",
   "execution_count": 6,
   "metadata": {},
   "outputs": [
    {
     "name": "stdout",
     "output_type": "stream",
     "text": [
      "10.666666666666666\n"
     ]
    }
   ],
   "source": [
    "def sum(a,b):\n",
    "    return a+(createFact(b))\n",
    "\n",
    "def createFact(num):\n",
    "    fact=1\n",
    "    for i in range(2,num+1):\n",
    "        fact*=i\n",
    "    return fact\n",
    "\n",
    "list_num=[2,3,4]\n",
    "print(reduce(sum,list_num)/len(list_num))#avg #2+3!+4! ka avg"
   ]
  },
  {
   "cell_type": "code",
   "execution_count": 17,
   "metadata": {},
   "outputs": [
    {
     "ename": "TypeError",
     "evalue": "unsupported operand type(s) for ** or pow(): 'tuple' and 'int'",
     "output_type": "error",
     "traceback": [
      "\u001b[1;31m---------------------------------------------------------------------------\u001b[0m",
      "\u001b[1;31mTypeError\u001b[0m                                 Traceback (most recent call last)",
      "\u001b[1;32m~\\AppData\\Local\\Temp\\ipykernel_12192\\2129499459.py\u001b[0m in \u001b[0;36m<module>\u001b[1;34m\u001b[0m\n\u001b[0;32m     26\u001b[0m \u001b[0mlist_num\u001b[0m\u001b[1;33m=\u001b[0m\u001b[1;33m[\u001b[0m\u001b[1;36m2\u001b[0m\u001b[1;33m,\u001b[0m\u001b[1;36m3\u001b[0m\u001b[1;33m,\u001b[0m\u001b[1;36m4\u001b[0m\u001b[1;33m]\u001b[0m\u001b[1;33m\u001b[0m\u001b[1;33m\u001b[0m\u001b[0m\n\u001b[0;32m     27\u001b[0m \u001b[0mog\u001b[0m\u001b[1;33m=\u001b[0m\u001b[0mlist\u001b[0m\u001b[1;33m(\u001b[0m\u001b[0mmap\u001b[0m\u001b[1;33m(\u001b[0m\u001b[0modd_or_eve\u001b[0m\u001b[1;33m,\u001b[0m\u001b[0mlist_num\u001b[0m\u001b[1;33m)\u001b[0m\u001b[1;33m)\u001b[0m\u001b[1;33m\u001b[0m\u001b[1;33m\u001b[0m\u001b[0m\n\u001b[1;32m---> 28\u001b[1;33m \u001b[0ms_even\u001b[0m\u001b[1;33m=\u001b[0m\u001b[0mlist\u001b[0m\u001b[1;33m(\u001b[0m\u001b[0mfilter\u001b[0m\u001b[1;33m(\u001b[0m\u001b[0mcube\u001b[0m\u001b[1;33m,\u001b[0m\u001b[0mog\u001b[0m\u001b[1;33m)\u001b[0m\u001b[1;33m)\u001b[0m\u001b[1;33m\u001b[0m\u001b[1;33m\u001b[0m\u001b[0m\n\u001b[0m\u001b[0;32m     29\u001b[0m \u001b[0ms_odd\u001b[0m\u001b[1;33m=\u001b[0m\u001b[0mlist\u001b[0m\u001b[1;33m(\u001b[0m\u001b[0mfilter\u001b[0m\u001b[1;33m(\u001b[0m\u001b[0mfactorial\u001b[0m\u001b[1;33m,\u001b[0m\u001b[0mog\u001b[0m\u001b[1;33m)\u001b[0m\u001b[1;33m)\u001b[0m\u001b[1;33m\u001b[0m\u001b[1;33m\u001b[0m\u001b[0m\n\u001b[0;32m     30\u001b[0m \u001b[0mprint\u001b[0m\u001b[1;33m(\u001b[0m\u001b[0ms_odd\u001b[0m\u001b[1;33m,\u001b[0m\u001b[0ms_even\u001b[0m\u001b[1;33m)\u001b[0m\u001b[1;33m\u001b[0m\u001b[1;33m\u001b[0m\u001b[0m\n",
      "\u001b[1;32m~\\AppData\\Local\\Temp\\ipykernel_12192\\2129499459.py\u001b[0m in \u001b[0;36mcube\u001b[1;34m(num)\u001b[0m\n\u001b[0;32m      4\u001b[0m \u001b[1;33m\u001b[0m\u001b[0m\n\u001b[0;32m      5\u001b[0m \u001b[1;32mdef\u001b[0m \u001b[0mcube\u001b[0m\u001b[1;33m(\u001b[0m\u001b[0mnum\u001b[0m\u001b[1;33m)\u001b[0m\u001b[1;33m:\u001b[0m\u001b[1;33m\u001b[0m\u001b[1;33m\u001b[0m\u001b[0m\n\u001b[1;32m----> 6\u001b[1;33m     \u001b[1;32mreturn\u001b[0m \u001b[0mnum\u001b[0m\u001b[1;33m**\u001b[0m\u001b[1;36m3\u001b[0m\u001b[1;33m\u001b[0m\u001b[1;33m\u001b[0m\u001b[0m\n\u001b[0m\u001b[0;32m      7\u001b[0m \u001b[1;32mdef\u001b[0m \u001b[0msum\u001b[0m\u001b[1;33m(\u001b[0m\u001b[0ma\u001b[0m\u001b[1;33m,\u001b[0m\u001b[0mb\u001b[0m\u001b[1;33m)\u001b[0m\u001b[1;33m:\u001b[0m\u001b[1;33m\u001b[0m\u001b[1;33m\u001b[0m\u001b[0m\n\u001b[0;32m      8\u001b[0m     \u001b[1;32mreturn\u001b[0m \u001b[0ma\u001b[0m\u001b[1;33m+\u001b[0m\u001b[0mb\u001b[0m\u001b[1;33m\u001b[0m\u001b[1;33m\u001b[0m\u001b[0m\n",
      "\u001b[1;31mTypeError\u001b[0m: unsupported operand type(s) for ** or pow(): 'tuple' and 'int'"
     ]
    }
   ],
   "source": [
    "#take list as input from user and if the element is odd then take its factorial if even then take its cube\n",
    "#print sum of odd factorial list subtracted by the sum if ecen cube list\n",
    "#map filter reduce\n",
    "\n",
    "def cube(num):\n",
    "    return num**3\n",
    "def sum(a,b):\n",
    "    return a+b\n",
    "\n",
    "def factorial(num):\n",
    "    fact=1\n",
    "    for i in range(2,num+1):\n",
    "        fact*=i\n",
    "    return fact\n",
    "def odd_or_eve(n):\n",
    "   eve=[]\n",
    "   odd=[]\n",
    "   if(n%2==0):\n",
    "        eve.append(n)\n",
    "   else:\n",
    "        odd.append(n)\n",
    "   return eve,odd\n",
    "\n",
    "#snew=reduce(cube,eve)\n",
    "#map function is needed\n",
    "list_num=[2,3,4]\n",
    "og=list(map(odd_or_eve,list_num))\n",
    "s_even=list(filter(cube,og))\n",
    "s_odd=list(filter(factorial,og))\n",
    "print(s_odd,s_even)\n",
    "#evesum=reduce(sum,s_even)\n",
    "#oddsum=reduce(sum,s_odd)\n",
    "\n",
    "#print(evesum,oddsum,end=\"\\n\")\n"
   ]
  },
  {
   "cell_type": "code",
   "execution_count": 34,
   "metadata": {},
   "outputs": [
    {
     "name": "stdout",
     "output_type": "stream",
     "text": [
      "[[], [2], [], [4]]\n",
      "[8, 64]\n",
      "[6]\n",
      "66\n"
     ]
    }
   ],
   "source": [
    "listnum=list(map(int,input().split(\" \")))\n",
    "def evennum(n):\n",
    "    odd=[]\n",
    "    eve=[]\n",
    "    if n%2==0:\n",
    "        odd.append(n)\n",
    "    else:\n",
    "        eve.append(n)\n",
    "    return odd\n",
    "print(list(map(evennum,listnum)))\n",
    "\n",
    "def cube(num):\n",
    "    return num**3\n",
    "def sum(a,b):\n",
    "    return a+b\n",
    "\n",
    "def factorial(num):\n",
    "    fact=1\n",
    "    for i in range(2,num+1):\n",
    "        fact*=i\n",
    "    return fact\n",
    "s_even=list(map(cube,eve))\n",
    "s_odd=list(map(factorial,odd))\n",
    "\n",
    "#s_even=list(filter(cube,odd))\n",
    "print(s_even)\n",
    "print(s_odd)\n",
    "evesum=reduce(sum,s_even)\n",
    "oddsum=reduce(sum,s_odd)\n",
    "print(evesum-oddsum)"
   ]
  },
  {
   "cell_type": "code",
   "execution_count": 20,
   "metadata": {},
   "outputs": [
    {
     "name": "stdout",
     "output_type": "stream",
     "text": [
      "a 2 \n",
      "b 3 \n",
      "c 4\n"
     ]
    }
   ],
   "source": [
    "def even(n):\n",
    "    return n**3\n",
    "def summing(a,b):\n",
    "    return a+b\n",
    "#a=list(map*int,input().split(\" \"))\n",
    "lis1=[2,3,4]\n",
    "a,b,c=lis1\n",
    "#unpacking\n",
    "\n",
    "print(\"a\",a,\"\\n\"+\"b\",b,\"\\n\"+\"c\",c)\n"
   ]
  },
  {
   "cell_type": "code",
   "execution_count": 40,
   "metadata": {},
   "outputs": [
    {
     "name": "stdout",
     "output_type": "stream",
     "text": [
      "[1, 2, 3, 4, 5]\n",
      "[8, 64] 72\n",
      "[1, 6, 120] 127\n",
      "-55\n"
     ]
    }
   ],
   "source": [
    "listnum = list(map(int, input().split()))\n",
    "\n",
    "# def evennum(n):\n",
    "#     odd = []\n",
    "#     eve = []\n",
    "#     if n % 2 == 0:\n",
    "#         eve.append(n)\n",
    "#     else:\n",
    "#         odd.append(n)\n",
    "#     return eve\n",
    "def cube(num):\n",
    "    return num**3\n",
    "def sum(a,b):\n",
    "    return a+b\n",
    "\n",
    "def factorial(num):\n",
    "    fact=1\n",
    "    for i in range(2,num+1):\n",
    "        fact*=i\n",
    "    return fact\n",
    "\n",
    "even_list = list(filter(lambda x: x % 2 == 0, listnum))\n",
    "odd_list = list(filter(lambda x: x % 2 == 1, listnum))\n",
    "\n",
    "s_even = list(map(cube, even_list))\n",
    "s_odd = list(map(factorial, odd_list))\n",
    "\n",
    "evesum = reduce(sum, s_even)\n",
    "oddsum = reduce(sum, s_odd)\n",
    "print(listnum)\n",
    "print(s_even,evesum)\n",
    "print(s_odd,oddsum)\n",
    "\n",
    "print(evesum - oddsum)\n"
   ]
  }
 ],
 "metadata": {
  "kernelspec": {
   "display_name": "base",
   "language": "python",
   "name": "python3"
  },
  "language_info": {
   "codemirror_mode": {
    "name": "ipython",
    "version": 3
   },
   "file_extension": ".py",
   "mimetype": "text/x-python",
   "name": "python",
   "nbconvert_exporter": "python",
   "pygments_lexer": "ipython3",
   "version": "3.9.13"
  },
  "orig_nbformat": 4
 },
 "nbformat": 4,
 "nbformat_minor": 2
}
