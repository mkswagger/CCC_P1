{
 "cells": [
  {
   "cell_type": "code",
   "execution_count": 1,
   "metadata": {},
   "outputs": [
    {
     "name": "stdout",
     "output_type": "stream",
     "text": [
      "14\n"
     ]
    }
   ],
   "source": [
    "from functools import reduce\n",
    "def sum(a,b):\n",
    "    return a+b\n",
    "list_num=[2,3,4,5]\n",
    "print(reduce(sum,list_num))"
   ]
  },
  {
   "cell_type": "code",
   "execution_count": 6,
   "metadata": {},
   "outputs": [
    {
     "name": "stdout",
     "output_type": "stream",
     "text": [
      "10.666666666666666\n"
     ]
    }
   ],
   "source": [
    "def sum(a,b):\n",
    "    return a+(createFact(b))\n",
    "\n",
    "def createFact(num):\n",
    "    fact=1\n",
    "    for i in range(2,num+1):\n",
    "        fact*=i\n",
    "    return fact\n",
    "\n",
    "list_num=[2,3,4]\n",
    "print(reduce(sum,list_num)/len(list_num))#avg #2+3!+4! ka avg"
   ]
  },
  {
   "cell_type": "code",
   "execution_count": 17,
   "metadata": {},
   "outputs": [
    {
     "ename": "TypeError",
     "evalue": "unsupported operand type(s) for ** or pow(): 'tuple' and 'int'",
     "output_type": "error",
     "traceback": [
      "\u001b[1;31m---------------------------------------------------------------------------\u001b[0m",
      "\u001b[1;31mTypeError\u001b[0m                                 Traceback (most recent call last)",
      "\u001b[1;32m~\\AppData\\Local\\Temp\\ipykernel_12192\\2129499459.py\u001b[0m in \u001b[0;36m<module>\u001b[1;34m\u001b[0m\n\u001b[0;32m     26\u001b[0m \u001b[0mlist_num\u001b[0m\u001b[1;33m=\u001b[0m\u001b[1;33m[\u001b[0m\u001b[1;36m2\u001b[0m\u001b[1;33m,\u001b[0m\u001b[1;36m3\u001b[0m\u001b[1;33m,\u001b[0m\u001b[1;36m4\u001b[0m\u001b[1;33m]\u001b[0m\u001b[1;33m\u001b[0m\u001b[1;33m\u001b[0m\u001b[0m\n\u001b[0;32m     27\u001b[0m \u001b[0mog\u001b[0m\u001b[1;33m=\u001b[0m\u001b[0mlist\u001b[0m\u001b[1;33m(\u001b[0m\u001b[0mmap\u001b[0m\u001b[1;33m(\u001b[0m\u001b[0modd_or_eve\u001b[0m\u001b[1;33m,\u001b[0m\u001b[0mlist_num\u001b[0m\u001b[1;33m)\u001b[0m\u001b[1;33m)\u001b[0m\u001b[1;33m\u001b[0m\u001b[1;33m\u001b[0m\u001b[0m\n\u001b[1;32m---> 28\u001b[1;33m \u001b[0ms_even\u001b[0m\u001b[1;33m=\u001b[0m\u001b[0mlist\u001b[0m\u001b[1;33m(\u001b[0m\u001b[0mfilter\u001b[0m\u001b[1;33m(\u001b[0m\u001b[0mcube\u001b[0m\u001b[1;33m,\u001b[0m\u001b[0mog\u001b[0m\u001b[1;33m)\u001b[0m\u001b[1;33m)\u001b[0m\u001b[1;33m\u001b[0m\u001b[1;33m\u001b[0m\u001b[0m\n\u001b[0m\u001b[0;32m     29\u001b[0m \u001b[0ms_odd\u001b[0m\u001b[1;33m=\u001b[0m\u001b[0mlist\u001b[0m\u001b[1;33m(\u001b[0m\u001b[0mfilter\u001b[0m\u001b[1;33m(\u001b[0m\u001b[0mfactorial\u001b[0m\u001b[1;33m,\u001b[0m\u001b[0mog\u001b[0m\u001b[1;33m)\u001b[0m\u001b[1;33m)\u001b[0m\u001b[1;33m\u001b[0m\u001b[1;33m\u001b[0m\u001b[0m\n\u001b[0;32m     30\u001b[0m \u001b[0mprint\u001b[0m\u001b[1;33m(\u001b[0m\u001b[0ms_odd\u001b[0m\u001b[1;33m,\u001b[0m\u001b[0ms_even\u001b[0m\u001b[1;33m)\u001b[0m\u001b[1;33m\u001b[0m\u001b[1;33m\u001b[0m\u001b[0m\n",
      "\u001b[1;32m~\\AppData\\Local\\Temp\\ipykernel_12192\\2129499459.py\u001b[0m in \u001b[0;36mcube\u001b[1;34m(num)\u001b[0m\n\u001b[0;32m      4\u001b[0m \u001b[1;33m\u001b[0m\u001b[0m\n\u001b[0;32m      5\u001b[0m \u001b[1;32mdef\u001b[0m \u001b[0mcube\u001b[0m\u001b[1;33m(\u001b[0m\u001b[0mnum\u001b[0m\u001b[1;33m)\u001b[0m\u001b[1;33m:\u001b[0m\u001b[1;33m\u001b[0m\u001b[1;33m\u001b[0m\u001b[0m\n\u001b[1;32m----> 6\u001b[1;33m     \u001b[1;32mreturn\u001b[0m \u001b[0mnum\u001b[0m\u001b[1;33m**\u001b[0m\u001b[1;36m3\u001b[0m\u001b[1;33m\u001b[0m\u001b[1;33m\u001b[0m\u001b[0m\n\u001b[0m\u001b[0;32m      7\u001b[0m \u001b[1;32mdef\u001b[0m \u001b[0msum\u001b[0m\u001b[1;33m(\u001b[0m\u001b[0ma\u001b[0m\u001b[1;33m,\u001b[0m\u001b[0mb\u001b[0m\u001b[1;33m)\u001b[0m\u001b[1;33m:\u001b[0m\u001b[1;33m\u001b[0m\u001b[1;33m\u001b[0m\u001b[0m\n\u001b[0;32m      8\u001b[0m     \u001b[1;32mreturn\u001b[0m \u001b[0ma\u001b[0m\u001b[1;33m+\u001b[0m\u001b[0mb\u001b[0m\u001b[1;33m\u001b[0m\u001b[1;33m\u001b[0m\u001b[0m\n",
      "\u001b[1;31mTypeError\u001b[0m: unsupported operand type(s) for ** or pow(): 'tuple' and 'int'"
     ]
    }
   ],
   "source": [
    "#take list as input from user and if the element is odd then take its factorial if even then take its cube\n",
    "#print sum of odd factorial list subtracted by the sum if ecen cube list\n",
    "#map filter reduce\n",
    "\n",
    "def cube(num):\n",
    "    return num**3\n",
    "def sum(a,b):\n",
    "    return a+b\n",
    "\n",
    "def factorial(num):\n",
    "    fact=1\n",
    "    for i in range(2,num+1):\n",
    "        fact*=i\n",
    "    return fact\n",
    "def odd_or_eve(n):\n",
    "   eve=[]\n",
    "   odd=[]\n",
    "   if(n%2==0):\n",
    "        eve.append(n)\n",
    "   else:\n",
    "        odd.append(n)\n",
    "   return eve,odd\n",
    "\n",
    "#snew=reduce(cube,eve)\n",
    "#map function is needed\n",
    "list_num=[2,3,4]\n",
    "og=list(map(odd_or_eve,list_num))\n",
    "s_even=list(filter(cube,og))\n",
    "s_odd=list(filter(factorial,og))\n",
    "print(s_odd,s_even)\n",
    "#evesum=reduce(sum,s_even)\n",
    "#oddsum=reduce(sum,s_odd)\n",
    "\n",
    "#print(evesum,oddsum,end=\"\\n\")\n"
   ]
  },
  {
   "cell_type": "code",
   "execution_count": 34,
   "metadata": {},
   "outputs": [
    {
     "name": "stdout",
     "output_type": "stream",
     "text": [
      "[[], [2], [], [4]]\n",
      "[8, 64]\n",
      "[6]\n",
      "66\n"
     ]
    }
   ],
   "source": [
    "listnum=list(map(int,input().split(\" \")))\n",
    "def evennum(n):\n",
    "    odd=[]\n",
    "    eve=[]\n",
    "    if n%2==0:\n",
    "        odd.append(n)\n",
    "    else:\n",
    "        eve.append(n)\n",
    "    return odd\n",
    "print(list(map(evennum,listnum)))\n",
    "\n",
    "def cube(num):\n",
    "    return num**3\n",
    "def sum(a,b):\n",
    "    return a+b\n",
    "\n",
    "def factorial(num):\n",
    "    fact=1\n",
    "    for i in range(2,num+1):\n",
    "        fact*=i\n",
    "    return fact\n",
    "s_even=list(map(cube,eve))\n",
    "s_odd=list(map(factorial,odd))\n",
    "\n",
    "#s_even=list(filter(cube,odd))\n",
    "print(s_even)\n",
    "print(s_odd)\n",
    "evesum=reduce(sum,s_even)\n",
    "oddsum=reduce(sum,s_odd)\n",
    "print(evesum-oddsum)"
   ]
  },
  {
   "cell_type": "code",
   "execution_count": 20,
   "metadata": {},
   "outputs": [
    {
     "name": "stdout",
     "output_type": "stream",
     "text": [
      "a 2 \n",
      "b 3 \n",
      "c 4\n"
     ]
    }
   ],
   "source": [
    "def even(n):\n",
    "    return n**3\n",
    "def summing(a,b):\n",
    "    return a+b\n",
    "#a=list(map*int,input().split(\" \"))\n",
    "lis1=[2,3,4]\n",
    "a,b,c=lis1\n",
    "#unpacking\n",
    "\n",
    "print(\"a\",a,\"\\n\"+\"b\",b,\"\\n\"+\"c\",c)\n"
   ]
  },
  {
   "cell_type": "code",
   "execution_count": 45,
   "metadata": {},
   "outputs": [
    {
     "name": "stdout",
     "output_type": "stream",
     "text": [
      "[3, 4, 5]\n",
      "[64]\n",
      "64\n",
      "[6, 120]\n",
      "126\n",
      "-62\n"
     ]
    }
   ],
   "source": [
    "listnum = list(map(int, input().split()))\n",
    "#FINAL ATTEMPT-WORKS \n",
    "\n",
    "# def evennum(n):\n",
    "#     odd = []\n",
    "#     eve = []\n",
    "#     if n % 2 == 0:\n",
    "#         eve.append(n)\n",
    "#     else:\n",
    "#         odd.append(n)\n",
    "#     return eve\n",
    "def cube(num):\n",
    "    return num**3\n",
    "def sum(a,b):\n",
    "    return a+b\n",
    "\n",
    "def factorial(num):\n",
    "    fact=1\n",
    "    for i in range(2,num+1):\n",
    "        fact*=i\n",
    "    return fact\n",
    "\n",
    "even_list = list(filter(lambda x: x % 2 == 0, listnum))\n",
    "odd_list = list(filter(lambda x: x % 2 == 1, listnum))\n",
    "\n",
    "s_even = list(map(cube, even_list))\n",
    "s_odd = list(map(factorial, odd_list))\n",
    "\n",
    "evesum = reduce(sum, s_even)\n",
    "oddsum = reduce(sum, s_odd)\n",
    "print(listnum,s_even,evesum,s_odd,oddsum,evesum - oddsum,sep=\"\\n\")\n"
   ]
  },
  {
   "cell_type": "code",
   "execution_count": 46,
   "metadata": {},
   "outputs": [
    {
     "name": "stdout",
     "output_type": "stream",
     "text": [
      "[[8, 64], [1, 6, 120]]\n",
      "55\n"
     ]
    }
   ],
   "source": [
    "import math #2D ARRAY\n",
    "\n",
    "from functools import reduce\n",
    "def evennums(num):\n",
    "    return num**3\n",
    "def oddnums(num):\n",
    "    return math.factorial(num)\n",
    "def summing(a,b):\n",
    "    return a+b\n",
    "def filtereven(number):\n",
    "    if(number%2==0):\n",
    "        return True\n",
    "def filterodd(numb):\n",
    "    if(numb%2!=0):\n",
    "        return True\n",
    "def finaldiff(a,b):\n",
    "    return abs(a-b)\n",
    "    \n",
    "a=list(map(int,input().split(' ')))\n",
    "lis2=[]\n",
    "lis2.append(list(map(evennums,list(filter(filtereven,a)))))\n",
    "lis2.append(list(map(oddnums,list(filter(filterodd,a)))))\n",
    "print(lis2)\n",
    "print(finaldiff(reduce(summing,lis2[0]),reduce(summing,(lis2[1]))))"
   ]
  },
  {
   "cell_type": "code",
   "execution_count": 50,
   "metadata": {},
   "outputs": [
    {
     "name": "stdout",
     "output_type": "stream",
     "text": [
      "heyyoucandothis\n"
     ]
    }
   ],
   "source": [
    "#CONCATENATE ALL STRINGS in list USING REDUCE\n",
    "def sum(a,b):\n",
    "    return a+b\n",
    "print(reduce(sum,list(map(str,input().split(\",\")))))\n"
   ]
  },
  {
   "cell_type": "code",
   "execution_count": 78,
   "metadata": {},
   "outputs": [
    {
     "name": "stdout",
     "output_type": "stream",
     "text": [
      "['apple', 'banana', 'mango']\n",
      "a 0\n",
      "e 4\n",
      "a 1\n",
      "a 3\n",
      "a 5\n",
      "a 1\n",
      "o 4\n",
      "Result: eeeeaaaaaaaaaaoooo\n"
     ]
    }
   ],
   "source": [
    "#take string seperated by spaces,map vowels only\n",
    "#vowels to be repeated for the no of times of the index\n",
    "#[apple,banana,cherry] [ae,aaa,e]  [aeee,aaaaaaaaaaaa,eee] concatenate all\n",
    "#FINAL \n",
    "\n",
    "inp=list(map(str,input().split(\" \")))\n",
    "print(inp)\n",
    "def vowcheck(inp):\n",
    "  vowel = \"aeiou\"\n",
    "  s = \"\"\n",
    "  for j in inp:\n",
    "    for i in range(len(j)):\n",
    "        if j[i] in vowel:\n",
    "            print(j[i], i)\n",
    "            s += j[i] * i\n",
    "  print(\"Result:\", s)\n",
    " \n",
    "vowcheck(inp)\n"
   ]
  },
  {
   "cell_type": "code",
   "execution_count": 80,
   "metadata": {},
   "outputs": [
    {
     "name": "stdout",
     "output_type": "stream",
     "text": [
      "['apple', 'banned']\n",
      "[['ae', 'ae'], ['ae', 'ae']]\n"
     ]
    }
   ],
   "source": [
    "inp=list(map(str,input().split(\" \")))\n",
    "print(inp)\n",
    "lis=[]\n",
    "def vowcheck(inp):\n",
    "  vowel = \"aeiou\"\n",
    "  s = \"\"\n",
    "  for j in inp:\n",
    "    if j in vowel:\n",
    "      s+=j\n",
    "  if len(s.strip())>0:\n",
    "     lis.append(s)\n",
    "  return lis\n",
    "      #s+=j*(j.index(j)+1)\n",
    "print(list(map(vowcheck,inp)))\n"
   ]
  },
  {
   "cell_type": "code",
   "execution_count": 1,
   "metadata": {},
   "outputs": [
    {
     "name": "stdout",
     "output_type": "stream",
     "text": [
      "1\n",
      "2\n",
      "3\n",
      "(1, 45, 3)\n"
     ]
    }
   ],
   "source": [
    "#TUPLESSS\n",
    "\n",
    "tup=(1,2,3)\n",
    "for i in tup:\n",
    "    print(i)\n",
    "\n",
    "#Tuple is immutable so if u wanna modify it, use list method\n",
    "\n",
    "tup=(1,2,3)\n",
    "lis=list(tup)\n",
    "lis[1]=45\n",
    "tupl=tuple(lis)\n",
    "print(tupl)\n",
    "#2D TUPLES\n",
    "\n",
    "tup=((1,2,3),(1,2,3))\n"
   ]
  },
  {
   "cell_type": "code",
   "execution_count": 4,
   "metadata": {},
   "outputs": [
    {
     "name": "stdout",
     "output_type": "stream",
     "text": [
      "{1, 2, 3, 4}\n",
      "{1, 2, 3, 4, 5, 6}\n",
      "{4}\n"
     ]
    }
   ],
   "source": [
    "#SET\n",
    "#anything inside curly braces in python cant be repeated\n",
    "\n",
    "ref={1,2,2,3,4}\n",
    "print(ref)\n",
    "set2={4,5,6}\n",
    "print(ref.union(set2))\n",
    "print(ref.intersection(set2))"
   ]
  },
  {
   "cell_type": "code",
   "execution_count": 8,
   "metadata": {},
   "outputs": [
    {
     "name": "stdout",
     "output_type": "stream",
     "text": [
      "45\n",
      "45\n",
      "None get lost\n",
      "{1: 11, 2: 22, 3: 33, 'hello': 45, 34: 345}\n"
     ]
    }
   ],
   "source": [
    "#   DICTIONARY\n",
    "\n",
    "dic1={1:11,2:22,3:33,\"hello\":45}\n",
    "print(dic1[\"hello\"])\n",
    "print(dic1.get(\"hello\"))#checks if it is present or not in the dictionary\n",
    "print(dic1.get(\"poda\"),\"get lost\")\n",
    "dic1[34]=345\n",
    "print(dic1)"
   ]
  },
  {
   "cell_type": "code",
   "execution_count": 17,
   "metadata": {},
   "outputs": [
    {
     "name": "stdout",
     "output_type": "stream",
     "text": [
      "['hello', 'poda', 'hello']\n",
      "['poda', 'hello']\n"
     ]
    }
   ],
   "source": [
    "#Remove duplicates fro list without using sets\n",
    "#duplicate values\n",
    "\n",
    "dict2={1:\"hello\",2:\"poda\",3:\"hello\"}\n",
    "vals=list(dict2.values())\n",
    "print(vals)\n",
    "for i in vals:\n",
    "  if vals.count(i)>1:\n",
    "      vals.remove(i)\n",
    "print(vals)"
   ]
  },
  {
   "cell_type": "code",
   "execution_count": 19,
   "metadata": {},
   "outputs": [
    {
     "name": "stdout",
     "output_type": "stream",
     "text": [
      "[2, 3, 1]\n"
     ]
    }
   ],
   "source": [
    "lis=[1,2,3,1]\n",
    "for i in lis:\n",
    "    if lis.count(i)>1:\n",
    "        lis.remove(i)\n",
    "print(lis)"
   ]
  },
  {
   "cell_type": "code",
   "execution_count": 20,
   "metadata": {},
   "outputs": [
    {
     "name": "stdout",
     "output_type": "stream",
     "text": [
      "[1, 2, 3, 4]\n"
     ]
    }
   ],
   "source": [
    "a=list(map(int,input().split(\" \")))\n",
    "print(list(set(a)))"
   ]
  },
  {
   "cell_type": "code",
   "execution_count": 22,
   "metadata": {},
   "outputs": [
    {
     "name": "stdout",
     "output_type": "stream",
     "text": [
      "[(1, 45), (2, 33), (3, 23)]\n"
     ]
    }
   ],
   "source": [
    "#take key and value from user and sort it\n",
    "dict={}\n",
    "n=int(input(\"enter no of pairs:\"))\n",
    "for i in range(n):\n",
    "    key=int(input(\"key:\"))\n",
    "    val=int(input(\"value:\"))\n",
    "    dict[key]=val\n",
    "sorted_dict=sorted(dict.items())\n",
    "print(sorted_dict)"
   ]
  }
 ],
 "metadata": {
  "kernelspec": {
   "display_name": "base",
   "language": "python",
   "name": "python3"
  },
  "language_info": {
   "codemirror_mode": {
    "name": "ipython",
    "version": 3
   },
   "file_extension": ".py",
   "mimetype": "text/x-python",
   "name": "python",
   "nbconvert_exporter": "python",
   "pygments_lexer": "ipython3",
   "version": "3.9.13"
  },
  "orig_nbformat": 4
 },
 "nbformat": 4,
 "nbformat_minor": 2
}
