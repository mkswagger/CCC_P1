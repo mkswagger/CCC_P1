{
 "cells": [
  {
   "cell_type": "code",
   "execution_count": 1,
   "metadata": {},
   "outputs": [
    {
     "name": "stdout",
     "output_type": "stream",
     "text": [
      "0\n"
     ]
    }
   ],
   "source": [
    "import random\n",
    "print(random.randint(0,4) ) #prints random no between the given ranges\n",
    "#both the limits are included\n",
    "#(1,2] [1,2] hereee [0,4]-included  both the limits\n",
    "#for i in range (0,4)     #--[0,4)-range function\n",
    "\n",
    "print(random.choice())   #asks for a sequence , can be list or tuple  , dictionaries cant be taken as sequence\n",
    "\n",
    "#dictionary of dictionaries can be a seq , list of dictionaries can be a sequence\n",
    "\n",
    "#value can be accessed through index soo it is a sequence\n"
   ]
  },
  {
   "cell_type": "code",
   "execution_count": 3,
   "metadata": {},
   "outputs": [
    {
     "name": "stdout",
     "output_type": "stream",
     "text": [
      "{1: 11, 2: 22, 3: 33}\n",
      "[3, 33]\n"
     ]
    }
   ],
   "source": [
    "sample={}\n",
    "for i in range(int(input(\"enter no of key val pairs:\"))):\n",
    "    ref=list(map(int,input().split(\" \")))\n",
    "    sample[ref[0]]=ref[1]\n",
    "print(sample)\n",
    "print(ref)"
   ]
  },
  {
   "cell_type": "code",
   "execution_count": 4,
   "metadata": {},
   "outputs": [
    {
     "name": "stdout",
     "output_type": "stream",
     "text": [
      "{1: 33, 2: 44}\n",
      "[2, 44]\n"
     ]
    }
   ],
   "source": [
    "sample={}\n",
    "for i in range(int(input(\"enter no of key val pairs:\"))):\n",
    "    ref=list(map(int,input().split(\" \")))\n",
    "    sample[ref[0]]=ref[1]\n",
    "print(sample)\n",
    "print(ref) \n",
    "#duplicate values"
   ]
  },
  {
   "cell_type": "code",
   "execution_count": 5,
   "metadata": {},
   "outputs": [
    {
     "name": "stdout",
     "output_type": "stream",
     "text": [
      "{1, 2, 3, 4}\n"
     ]
    }
   ],
   "source": [
    "sample={1,1,2,3,2,4} #set is a seq as there is no pair\n",
    "print(sample)"
   ]
  }
 ],
 "metadata": {
  "kernelspec": {
   "display_name": "base",
   "language": "python",
   "name": "python3"
  },
  "language_info": {
   "codemirror_mode": {
    "name": "ipython",
    "version": 3
   },
   "file_extension": ".py",
   "mimetype": "text/x-python",
   "name": "python",
   "nbconvert_exporter": "python",
   "pygments_lexer": "ipython3",
   "version": "3.9.13"
  },
  "orig_nbformat": 4
 },
 "nbformat": 4,
 "nbformat_minor": 2
}
