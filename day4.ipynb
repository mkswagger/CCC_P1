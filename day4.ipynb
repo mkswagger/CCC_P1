{
 "cells": [
  {
   "cell_type": "code",
   "execution_count": 1,
   "metadata": {},
   "outputs": [
    {
     "name": "stdout",
     "output_type": "stream",
     "text": [
      "0\n"
     ]
    }
   ],
   "source": [
    "import random\n",
    "print(random.randint(0,4) ) #prints random no between the given ranges\n",
    "#both the limits are included\n",
    "#(1,2] [1,2] hereee [0,4]-included  both the limits\n",
    "#for i in range (0,4)     #--[0,4)-range function\n",
    "\n",
    "print(random.choice())   #asks for a sequence , can be list or tuple  , dictionaries cant be taken as sequence\n",
    "\n",
    "#dictionary of dictionaries can be a seq , list of dictionaries can be a sequence\n",
    "\n",
    "#value can be accessed through index soo it is a sequence\n"
   ]
  },
  {
   "cell_type": "code",
   "execution_count": 3,
   "metadata": {},
   "outputs": [
    {
     "name": "stdout",
     "output_type": "stream",
     "text": [
      "{1: 11, 2: 22, 3: 33}\n",
      "[3, 33]\n"
     ]
    }
   ],
   "source": [
    "sample={}\n",
    "for i in range(int(input(\"enter no of key val pairs:\"))):\n",
    "    ref=list(map(int,input().split(\" \")))\n",
    "    sample[ref[0]]=ref[1]\n",
    "print(sample)\n",
    "print(ref)"
   ]
  },
  {
   "cell_type": "code",
   "execution_count": 4,
   "metadata": {},
   "outputs": [
    {
     "name": "stdout",
     "output_type": "stream",
     "text": [
      "{1: 33, 2: 44}\n",
      "[2, 44]\n"
     ]
    }
   ],
   "source": [
    "sample={}\n",
    "for i in range(int(input(\"enter no of key val pairs:\"))):\n",
    "    ref=list(map(int,input().split(\" \")))\n",
    "    sample[ref[0]]=ref[1]\n",
    "print(sample)\n",
    "print(ref) \n",
    "#duplicate values"
   ]
  },
  {
   "cell_type": "code",
   "execution_count": 5,
   "metadata": {},
   "outputs": [
    {
     "name": "stdout",
     "output_type": "stream",
     "text": [
      "{1, 2, 3, 4}\n"
     ]
    }
   ],
   "source": [
    "sample={1,1,2,3,2,4} #set is a seq as there is no pair\n",
    "print(sample)"
   ]
  },
  {
   "cell_type": "code",
   "execution_count": 6,
   "metadata": {},
   "outputs": [
    {
     "name": "stdout",
     "output_type": "stream",
     "text": [
      "5\n",
      "1\n"
     ]
    }
   ],
   "source": [
    "#RANDOM CHOICE\n",
    "\n",
    "import random\n",
    "print(random.randint(1,10))\n",
    "lis=list(map(int,input().split(\" \")))\n",
    "print(random.choice(lis)) #prints a random no from the list"
   ]
  },
  {
   "cell_type": "code",
   "execution_count": 14,
   "metadata": {},
   "outputs": [
    {
     "name": "stdout",
     "output_type": "stream",
     "text": [
      "Tie\n",
      "OVERALL WINNER :COMPUTER💻\n",
      "{'stone': 'paper', '': 'paper', 'paper': 'paper'}\n"
     ]
    }
   ],
   "source": [
    "#stone paper scissor\n",
    "#computer vs you, who ever wins put plus 1 in dictionary\n",
    "\n",
    "import random\n",
    "possible_actions=[\"stone\",\"paper\",\"scissor\"]\n",
    "d={}\n",
    "n=int(input(\"enter no of games:\"))\n",
    "c=0\n",
    "u=0\n",
    "response=[]\n",
    "scores={\"computer\":0,\"you\":0}\n",
    "for i in range(n):\n",
    "   user_choice=input(\"stone 💎,paper 📜,scissor ✂\")\n",
    "   computer_choice=random.choice(possible_actions)\n",
    "   d[user_choice]=computer_choice\n",
    "   \n",
    "   if user_choice==computer_choice:\n",
    "    \n",
    "        print(\"Tie\")\n",
    "   elif user_choice==\"stone\" :\n",
    "       if(computer_choice==\"paper\"):\n",
    "          scores[\"computer\"]+=1\n",
    "       elif(computer_choice==\"scissor\"):\n",
    "          scores[\"you\"]+=1\n",
    "   elif user_choice==\"paper\":\n",
    "       if(computer_choice==\"stone\"):\n",
    "          scores[\"you\"]+=1\n",
    "       elif(computer_choice==\"scissor\"):\n",
    "            scores[\"computer\"]+=1\n",
    "   elif user_choice==\"scissor\":\n",
    "      if(computer_choice==\"stone\"):\n",
    "            scores[\"computer\"]+=1\n",
    "      elif(computer_choice==\"paper\"):\n",
    "            scores[\"you\"]+=1\n",
    "\n",
    "if(scores[\"computer\"]>scores[\"you\"]):\n",
    "   print(\"OVERALL WINNER :COMPUTER💻\")\n",
    "elif(scores[\"you\"]>scores[\"computer\"]):\n",
    "   print(\"OVERALL WINNER :YOU!!!🤡\")\n",
    "else:\n",
    "   print(\"TIE!\")\n",
    "print(d)"
   ]
  },
  {
   "cell_type": "code",
   "execution_count": 16,
   "metadata": {},
   "outputs": [
    {
     "name": "stdout",
     "output_type": "stream",
     "text": [
      "{'computer': 4, 'you': 2}\n"
     ]
    }
   ],
   "source": [
    "#OTHER APPROACH\n",
    "winning_combinations = {\n",
    "    \"stone\": \"scissor\",\n",
    "    \"paper\": \"stone\",\n",
    "    \"scissor\": \"paper\"\n",
    "}\n",
    "\n",
    "for i in range(n):\n",
    "    user_choice = input(\"stone 💎,paper 📜,scissor ✂\")\n",
    "    computer_choice = random.choice(possible_actions)\n",
    "    d[user_choice] = computer_choice\n",
    "\n",
    "    if user_choice == computer_choice:\n",
    "        print(\"Tie\")\n",
    "    elif winning_combinations[user_choice] == computer_choice:\n",
    "        scores[\"you\"] += 1\n",
    "    else:\n",
    "        scores[\"computer\"] += 1\n",
    "\n",
    "print(scores)\n"
   ]
  },
  {
   "cell_type": "code",
   "execution_count": 15,
   "metadata": {},
   "outputs": [
    {
     "name": "stdout",
     "output_type": "stream",
     "text": [
      "OVERALL WINNER: COMPUTER\n",
      "[{'paper': 'stone', 'user_choice': 'paper', 'computer_choice': 'stone', 'winner': 'you'}, {'paper': 'scissor', 'user_choice': 'paper', 'computer_choice': 'scissor', 'winner': 'computer'}, {'paper': 'scissor', 'user_choice': 'paper', 'computer_choice': 'scissor', 'winner': 'computer'}]\n"
     ]
    }
   ],
   "source": [
    "import random  #SIR APPROACH\n",
    "from functools import reduce\n",
    "\n",
    "possible_actions=[\"stone\",\"paper\",\"scissor\"]\n",
    "d={}\n",
    "n=int(input(\"enter no of games:\"))\n",
    "scores={\"computer\":0,\"you\":0}\n",
    "\n",
    "winning_combinations = {\n",
    "    \"stone\": \"scissor\",\n",
    "    \"paper\": \"stone\",\n",
    "    \"scissor\": \"paper\"\n",
    "}\n",
    "\n",
    "game_data = []\n",
    "\n",
    "for i in range(n):\n",
    "    user_choice = input(\"stone 💎,paper 📜,scissor ✂\")\n",
    "    computer_choice = random.choice(possible_actions)\n",
    "    d[user_choice] = computer_choice\n",
    "\n",
    "    if user_choice == computer_choice:\n",
    "        print(\"Tie\")\n",
    "    elif winning_combinations[user_choice] == computer_choice:\n",
    "        scores[\"you\"] += 1\n",
    "    else:\n",
    "        scores[\"computer\"] += 1\n",
    "\n",
    "    # Create a new dictionary with the game data\n",
    "    game = {\n",
    "        \"user_choice\": user_choice,\n",
    "        \"computer_choice\": computer_choice,\n",
    "        \"winner\": \"Tie\" if user_choice == computer_choice else \"you\" if winning_combinations[user_choice] == computer_choice else \"computer\"\n",
    "    }\n",
    "\n",
    "    # Append the new dictionary to the game_data list\n",
    "    game_data.append({**d, **game})\n",
    "\n",
    "overall_winner = reduce(lambda x, y: x if scores[x] > scores[y] else y, scores.keys())\n",
    "\n",
    "print(f\"OVERALL WINNER: {overall_winner.upper()}\")\n",
    "print(game_data)\n"
   ]
  },
  {
   "cell_type": "code",
   "execution_count": null,
   "metadata": {},
   "outputs": [],
   "source": [
    "import random\n",
    "from functools import reduce   #WITH FILTER, REDUCE\n",
    "\n",
    "possible_actions=[\"stone\",\"paper\",\"scissor\"]\n",
    "d={}\n",
    "n=int(input(\"enter no of games:\"))\n",
    "scores={\"computer\":0,\"you\":0}\n",
    "\n",
    "winning_combinations = {\n",
    "    \"stone\": \"scissor\",\n",
    "    \"paper\": \"stone\",\n",
    "    \"scissor\": \"paper\"\n",
    "}\n",
    "\n",
    "game_data = []\n",
    "\n",
    "for i in range(n):\n",
    "    user_choice = input(\"stone 💎,paper 📜,scissor ✂\")\n",
    "    computer_choice = random.choice(possible_actions)\n",
    "    d[user_choice] = computer_choice\n",
    "\n",
    "    if user_choice == computer_choice:\n",
    "        print(\"Tie\")\n",
    "    elif winning_combinations[user_choice] == computer_choice:\n",
    "        scores[\"you\"] += 1\n",
    "    else:\n",
    "        scores[\"computer\"] += 1\n",
    "\n",
    "    # Create a new dictionary with the game data\n",
    "    game = {\n",
    "        \"user_choice\": user_choice,\n",
    "        \"computer_choice\": computer_choice,\n",
    "        \"winner\": \"Tie\" if user_choice == computer_choice else \"you\" if winning_combinations[user_choice] == computer_choice else \"computer\"\n",
    "    }\n",
    "\n",
    "    # Append the new dictionary to the game_data list\n",
    "    game_data.append({**d, **game})\n",
    "\n",
    "# Use filter() to filter the game_data list to only include games where the user won\n",
    "user_wins = list(filter(lambda x: x[\"winner\"] == \"you\", game_data))\n",
    "\n",
    "# Use reduce() to count the total number of games where the user won\n",
    "total_user_wins = reduce(lambda x, y: x + 1, user_wins, 0)\n",
    "\n",
    "overall_winner = reduce(lambda x, y: x if scores[x] > scores[y] else y, scores.keys())\n",
    "\n",
    "print(f\"OVERALL WINNER: {overall_winner.upper()}\")\n",
    "print(game_data)\n",
    "print(f\"USER WINS: {total_user_wins}\")\n"
   ]
  },
  {
   "cell_type": "code",
   "execution_count": 19,
   "metadata": {},
   "outputs": [
    {
     "name": "stdout",
     "output_type": "stream",
     "text": [
      "you won the toss, now bat\n"
     ]
    },
    {
     "ename": "KeyboardInterrupt",
     "evalue": "",
     "output_type": "error",
     "traceback": [
      "\u001b[1;31m---------------------------------------------------------------------------\u001b[0m",
      "\u001b[1;31mKeyboardInterrupt\u001b[0m                         Traceback (most recent call last)",
      "\u001b[1;32m~\\AppData\\Local\\Temp\\ipykernel_12352\\2976712726.py\u001b[0m in \u001b[0;36m<module>\u001b[1;34m\u001b[0m\n\u001b[0;32m     21\u001b[0m    \u001b[0mcompsc\u001b[0m\u001b[1;33m=\u001b[0m\u001b[0mrandom\u001b[0m\u001b[1;33m.\u001b[0m\u001b[0mrandint\u001b[0m\u001b[1;33m(\u001b[0m\u001b[1;36m1\u001b[0m\u001b[1;33m,\u001b[0m\u001b[1;36m6\u001b[0m\u001b[1;33m)\u001b[0m\u001b[1;33m\u001b[0m\u001b[1;33m\u001b[0m\u001b[0m\n\u001b[0;32m     22\u001b[0m    \u001b[1;32mwhile\u001b[0m\u001b[1;33m(\u001b[0m\u001b[0musc\u001b[0m\u001b[1;33m!=\u001b[0m\u001b[0mcompsc\u001b[0m\u001b[1;33m)\u001b[0m\u001b[1;33m:\u001b[0m\u001b[1;33m\u001b[0m\u001b[1;33m\u001b[0m\u001b[0m\n\u001b[1;32m---> 23\u001b[1;33m       \u001b[0md\u001b[0m\u001b[1;33m[\u001b[0m\u001b[1;34m\"user\"\u001b[0m\u001b[1;33m]\u001b[0m\u001b[1;33m+=\u001b[0m\u001b[1;36m1\u001b[0m\u001b[1;33m\u001b[0m\u001b[1;33m\u001b[0m\u001b[0m\n\u001b[0m\u001b[0;32m     24\u001b[0m    \u001b[0mprint\u001b[0m\u001b[1;33m(\u001b[0m\u001b[1;34m\"Out!!!\"\u001b[0m\u001b[1;33m)\u001b[0m\u001b[1;33m\u001b[0m\u001b[1;33m\u001b[0m\u001b[0m\n\u001b[0;32m     25\u001b[0m \u001b[0mprint\u001b[0m\u001b[1;33m(\u001b[0m\u001b[1;34m\"total score:\"\u001b[0m\u001b[1;33m,\u001b[0m\u001b[0md\u001b[0m\u001b[1;33m[\u001b[0m\u001b[1;34m\"user\"\u001b[0m\u001b[1;33m]\u001b[0m\u001b[1;33m)\u001b[0m\u001b[1;33m\u001b[0m\u001b[1;33m\u001b[0m\u001b[0m\n",
      "\u001b[1;31mKeyboardInterrupt\u001b[0m: "
     ]
    }
   ],
   "source": [
    "#ODD EVEN -HAND CRICKET GAME USING THE ABOVE MODEL\n",
    "\n",
    "n=int(input(\"enter no of games:\"))\n",
    "d={\"user\":0,\"comp\":0}\n",
    "user_choice=input(\"odd or even?\")\n",
    "us=int(input(\"any no between 1 and 6\"))\n",
    "comp=random.randint(1,6)\n",
    "if(us+comp)%2==0:\n",
    "    comp_choice=\"even\"\n",
    "else:\n",
    "    comp_choice=\"odd\"\n",
    "\n",
    "def decide(user_choice,comp_choice):\n",
    "  if(user_choice==comp_choice):\n",
    "    print(\"you won the toss, now bat\")\n",
    "  else:\n",
    "    print(\"you lost the toss, now computer will bat\")\n",
    "decide(user_choice,comp_choice)\n",
    "for i in range(n):\n",
    "   usc=int(input(\"any number between 1 and 6:\"))\n",
    "   compsc=random.randint(1,6)\n",
    "   while(usc!=compsc):\n",
    "      d[\"user\"]+=1\n",
    "   print(\"Out!!!\")\n",
    "print(\"total score:\",d[\"user\"])\n",
    "   \n",
    "\n"
   ]
  },
  {
   "cell_type": "code",
   "execution_count": 25,
   "metadata": {},
   "outputs": [
    {
     "name": "stdout",
     "output_type": "stream",
     "text": [
      "your otp is: 902777\n",
      "None\n"
     ]
    }
   ],
   "source": [
    "#ALL THE RANDOM FUNCTIONS ARE BASED ON TIME\n",
    "#take phone no as a parameter, genereate a otp\n",
    "\n",
    "ph_no=int(input(\"enter phone number\"))\n",
    "def sum_ofphno(ph_no):\n",
    "    # s=0\n",
    "    # s+=sum(list(ph_no))\n",
    "    otp=random.randint(10000,999999)\n",
    "    print(print(\"your otp is:\",otp))\n",
    "sum_ofphno(ph_no)"
   ]
  },
  {
   "cell_type": "code",
   "execution_count": 26,
   "metadata": {},
   "outputs": [
    {
     "name": "stdout",
     "output_type": "stream",
     "text": [
      "34 23\n",
      "[4, 3, 2]\n"
     ]
    }
   ],
   "source": [
    "a=23\n",
    "b=34\n",
    "a,b=b,a\n",
    "print(a,b) #swapping\n",
    "\n",
    "lis=[2,3,4]\n",
    "lis[0],lis[-1]=lis[-1],lis[0]\n",
    "print(lis)\n"
   ]
  },
  {
   "cell_type": "code",
   "execution_count": null,
   "metadata": {},
   "outputs": [],
   "source": []
  }
 ],
 "metadata": {
  "kernelspec": {
   "display_name": "base",
   "language": "python",
   "name": "python3"
  },
  "language_info": {
   "codemirror_mode": {
    "name": "ipython",
    "version": 3
   },
   "file_extension": ".py",
   "mimetype": "text/x-python",
   "name": "python",
   "nbconvert_exporter": "python",
   "pygments_lexer": "ipython3",
   "version": "3.9.13"
  },
  "orig_nbformat": 4
 },
 "nbformat": 4,
 "nbformat_minor": 2
}
