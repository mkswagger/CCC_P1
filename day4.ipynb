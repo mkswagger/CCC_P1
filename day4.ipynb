{
 "cells": [
  {
   "cell_type": "code",
   "execution_count": 1,
   "metadata": {},
   "outputs": [
    {
     "name": "stdout",
     "output_type": "stream",
     "text": [
      "0\n"
     ]
    }
   ],
   "source": [
    "import random\n",
    "print(random.randint(0,4) ) #prints random no between the given ranges\n",
    "#both the limits are included\n",
    "#(1,2] [1,2] hereee [0,4]-included  both the limits\n",
    "#for i in range (0,4)     #--[0,4)-range function\n",
    "\n",
    "print(random.choice())   #asks for a sequence , can be list or tuple  , dictionaries cant be taken as sequence\n",
    "\n",
    "#dictionary of dictionaries can be a seq , list of dictionaries can be a sequence\n",
    "\n",
    "#value can be accessed through index soo it is a sequence\n"
   ]
  },
  {
   "cell_type": "code",
   "execution_count": 3,
   "metadata": {},
   "outputs": [
    {
     "name": "stdout",
     "output_type": "stream",
     "text": [
      "{1: 11, 2: 22, 3: 33}\n",
      "[3, 33]\n"
     ]
    }
   ],
   "source": [
    "sample={}\n",
    "for i in range(int(input(\"enter no of key val pairs:\"))):\n",
    "    ref=list(map(int,input().split(\" \")))\n",
    "    sample[ref[0]]=ref[1]\n",
    "print(sample)\n",
    "print(ref)"
   ]
  },
  {
   "cell_type": "code",
   "execution_count": 4,
   "metadata": {},
   "outputs": [
    {
     "name": "stdout",
     "output_type": "stream",
     "text": [
      "{1: 33, 2: 44}\n",
      "[2, 44]\n"
     ]
    }
   ],
   "source": [
    "sample={}\n",
    "for i in range(int(input(\"enter no of key val pairs:\"))):\n",
    "    ref=list(map(int,input().split(\" \")))\n",
    "    sample[ref[0]]=ref[1]\n",
    "print(sample)\n",
    "print(ref) \n",
    "#duplicate values"
   ]
  },
  {
   "cell_type": "code",
   "execution_count": 5,
   "metadata": {},
   "outputs": [
    {
     "name": "stdout",
     "output_type": "stream",
     "text": [
      "{1, 2, 3, 4}\n"
     ]
    }
   ],
   "source": [
    "sample={1,1,2,3,2,4} #set is a seq as there is no pair\n",
    "print(sample)"
   ]
  },
  {
   "cell_type": "code",
   "execution_count": 6,
   "metadata": {},
   "outputs": [
    {
     "name": "stdout",
     "output_type": "stream",
     "text": [
      "5\n",
      "1\n"
     ]
    }
   ],
   "source": [
    "#RANDOM CHOICE\n",
    "\n",
    "import random\n",
    "print(random.randint(1,10))\n",
    "lis=list(map(int,input().split(\" \")))\n",
    "print(random.choice(lis)) #prints a random no from the list"
   ]
  },
  {
   "cell_type": "code",
   "execution_count": 14,
   "metadata": {},
   "outputs": [
    {
     "name": "stdout",
     "output_type": "stream",
     "text": [
      "Tie\n",
      "OVERALL WINNER :COMPUTER💻\n",
      "{'stone': 'paper', '': 'paper', 'paper': 'paper'}\n"
     ]
    }
   ],
   "source": [
    "#stone paper scissor\n",
    "#computer vs you, who ever wins put plus 1 in dictionary\n",
    "\n",
    "import random\n",
    "possible_actions=[\"stone\",\"paper\",\"scissor\"]\n",
    "d={}\n",
    "n=int(input(\"enter no of games:\"))\n",
    "c=0\n",
    "u=0\n",
    "response=[]\n",
    "scores={\"computer\":0,\"you\":0}\n",
    "for i in range(n):\n",
    "   user_choice=input(\"stone 💎,paper 📜,scissor ✂\")\n",
    "   computer_choice=random.choice(possible_actions)\n",
    "   d[user_choice]=computer_choice\n",
    "   \n",
    "   if user_choice==computer_choice:\n",
    "    \n",
    "        print(\"Tie\")\n",
    "   elif user_choice==\"stone\" :\n",
    "       if(computer_choice==\"paper\"):\n",
    "          scores[\"computer\"]+=1\n",
    "       elif(computer_choice==\"scissor\"):\n",
    "          scores[\"you\"]+=1\n",
    "   elif user_choice==\"paper\":\n",
    "       if(computer_choice==\"stone\"):\n",
    "          scores[\"you\"]+=1\n",
    "       elif(computer_choice==\"scissor\"):\n",
    "            scores[\"computer\"]+=1\n",
    "   elif user_choice==\"scissor\":\n",
    "      if(computer_choice==\"stone\"):\n",
    "            scores[\"computer\"]+=1\n",
    "      elif(computer_choice==\"paper\"):\n",
    "            scores[\"you\"]+=1\n",
    "\n",
    "if(scores[\"computer\"]>scores[\"you\"]):\n",
    "   print(\"OVERALL WINNER :COMPUTER💻\")\n",
    "elif(scores[\"you\"]>scores[\"computer\"]):\n",
    "   print(\"OVERALL WINNER :YOU!!!🤡\")\n",
    "else:\n",
    "   print(\"TIE!\")\n",
    "print(d)"
   ]
  },
  {
   "cell_type": "code",
   "execution_count": null,
   "metadata": {},
   "outputs": [],
   "source": [
    "#OTHER APPROACH\n",
    "winning_combinations = {\n",
    "    \"stone\": \"scissor\",\n",
    "    \"paper\": \"stone\",\n",
    "    \"scissor\": \"paper\"\n",
    "}\n",
    "\n",
    "for i in range(n):\n",
    "    user_choice = input(\"stone 💎,paper 📜,scissor ✂\")\n",
    "    computer_choice = random.choice(possible_actions)\n",
    "    d[user_choice] = computer_choice\n",
    "\n",
    "    if user_choice == computer_choice:\n",
    "        print(\"Tie\")\n",
    "    elif winning_combinations[user_choice] == computer_choice:\n",
    "        scores[\"you\"] += 1\n",
    "    else:\n",
    "        scores[\"computer\"] += 1\n"
   ]
  },
  {
   "cell_type": "code",
   "execution_count": 15,
   "metadata": {},
   "outputs": [
    {
     "name": "stdout",
     "output_type": "stream",
     "text": [
      "OVERALL WINNER: COMPUTER\n",
      "[{'paper': 'stone', 'user_choice': 'paper', 'computer_choice': 'stone', 'winner': 'you'}, {'paper': 'scissor', 'user_choice': 'paper', 'computer_choice': 'scissor', 'winner': 'computer'}, {'paper': 'scissor', 'user_choice': 'paper', 'computer_choice': 'scissor', 'winner': 'computer'}]\n"
     ]
    }
   ],
   "source": [
    "import random  #SIR APPROACH\n",
    "from functools import reduce\n",
    "\n",
    "possible_actions=[\"stone\",\"paper\",\"scissor\"]\n",
    "d={}\n",
    "n=int(input(\"enter no of games:\"))\n",
    "scores={\"computer\":0,\"you\":0}\n",
    "\n",
    "winning_combinations = {\n",
    "    \"stone\": \"scissor\",\n",
    "    \"paper\": \"stone\",\n",
    "    \"scissor\": \"paper\"\n",
    "}\n",
    "\n",
    "game_data = []\n",
    "\n",
    "for i in range(n):\n",
    "    user_choice = input(\"stone 💎,paper 📜,scissor ✂\")\n",
    "    computer_choice = random.choice(possible_actions)\n",
    "    d[user_choice] = computer_choice\n",
    "\n",
    "    if user_choice == computer_choice:\n",
    "        print(\"Tie\")\n",
    "    elif winning_combinations[user_choice] == computer_choice:\n",
    "        scores[\"you\"] += 1\n",
    "    else:\n",
    "        scores[\"computer\"] += 1\n",
    "\n",
    "    # Create a new dictionary with the game data\n",
    "    game = {\n",
    "        \"user_choice\": user_choice,\n",
    "        \"computer_choice\": computer_choice,\n",
    "        \"winner\": \"Tie\" if user_choice == computer_choice else \"you\" if winning_combinations[user_choice] == computer_choice else \"computer\"\n",
    "    }\n",
    "\n",
    "    # Append the new dictionary to the game_data list\n",
    "    game_data.append({**d, **game})\n",
    "\n",
    "overall_winner = reduce(lambda x, y: x if scores[x] > scores[y] else y, scores.keys())\n",
    "\n",
    "print(f\"OVERALL WINNER: {overall_winner.upper()}\")\n",
    "print(game_data)\n"
   ]
  }
 ],
 "metadata": {
  "kernelspec": {
   "display_name": "base",
   "language": "python",
   "name": "python3"
  },
  "language_info": {
   "codemirror_mode": {
    "name": "ipython",
    "version": 3
   },
   "file_extension": ".py",
   "mimetype": "text/x-python",
   "name": "python",
   "nbconvert_exporter": "python",
   "pygments_lexer": "ipython3",
   "version": "3.9.13"
  },
  "orig_nbformat": 4
 },
 "nbformat": 4,
 "nbformat_minor": 2
}
